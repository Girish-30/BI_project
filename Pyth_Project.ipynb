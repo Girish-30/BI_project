{
  "nbformat": 4,
  "nbformat_minor": 0,
  "metadata": {
    "colab": {
      "name": "Pyth_Project.ipynb",
      "provenance": [],
      "authorship_tag": "ABX9TyPHkEp6D60tdo1GWzAtLa/s",
      "include_colab_link": true
    },
    "kernelspec": {
      "name": "python3",
      "display_name": "Python 3"
    },
    "language_info": {
      "name": "python"
    }
  },
  "cells": [
    {
      "cell_type": "markdown",
      "metadata": {
        "id": "view-in-github",
        "colab_type": "text"
      },
      "source": [
        "<a href=\"https://colab.research.google.com/github/Girish-30/BI_project/blob/main/Pyth_Project.ipynb\" target=\"_parent\"><img src=\"https://colab.research.google.com/assets/colab-badge.svg\" alt=\"Open In Colab\"/></a>"
      ]
    },
    {
      "cell_type": "code",
      "metadata": {
        "id": "8W9F6VOhZcW3"
      },
      "source": [
        "import numpy as np\n",
        "import pandas as pd\n",
        "import matplotlib.pyplot as plt\n",
        "import seaborn as sns"
      ],
      "execution_count": 18,
      "outputs": []
    },
    {
      "cell_type": "code",
      "metadata": {
        "id": "aZVm7OZzeUcF"
      },
      "source": [
        "pd.set_option('display.max_columns', None)\n"
      ],
      "execution_count": 19,
      "outputs": []
    },
    {
      "cell_type": "code",
      "metadata": {
        "id": "_JUZYbJqsKqW"
      },
      "source": [
        "gb1=pd.read_csv('/content/MMA FIGHTERS & GYMS.csv')"
      ],
      "execution_count": 20,
      "outputs": []
    },
    {
      "cell_type": "code",
      "metadata": {
        "colab": {
          "base_uri": "https://localhost:8080/"
        },
        "id": "NsMVNetTsalr",
        "outputId": "59780559-f295-4bb3-a9c2-bd7218a3db0a"
      },
      "source": [
        "print(gb1.head(10))"
      ],
      "execution_count": 21,
      "outputs": [
        {
          "output_type": "stream",
          "text": [
            "                        Timestamp            Name  \\\n",
            "0  2021/03/02 9:28:07 PM GMT+5:30         chinmay   \n",
            "1  2021/03/02 9:36:19 PM GMT+5:30  Simran mahadik   \n",
            "2  2021/03/03 5:08:28 PM GMT+5:30           Anuja   \n",
            "3  2021/03/03 6:04:48 PM GMT+5:30    Sonali more    \n",
            "4  2021/03/04 4:24:27 PM GMT+5:30     Uma Jagkar    \n",
            "5  2021/03/04 4:26:35 PM GMT+5:30    Neha Chauhan   \n",
            "6  2021/03/04 4:26:56 PM GMT+5:30    Vishal Lanke   \n",
            "7  2021/03/04 4:28:40 PM GMT+5:30   Manisha Bisht   \n",
            "8  2021/03/04 4:29:15 PM GMT+5:30  Shubham Gawade   \n",
            "9  2021/03/04 4:35:47 PM GMT+5:30     Rahul kumar   \n",
            "\n",
            "                                   Most entertaining          Age  \\\n",
            "0                     Kung Fu;Capoeira;Karate;Kalari  Below 18yrs   \n",
            "1                                          Taekwondo  Above 18yrs   \n",
            "2                                   Taekwondo;Karate  Below 15yrs   \n",
            "3                                             Karate  Below 15yrs   \n",
            "4                                     Kung Fu;Karate  Below 15yrs   \n",
            "5                              Kung Fu;Karate;Kalari  Below 12yrs   \n",
            "6                                          Taekwondo  Below 12yrs   \n",
            "7  Taekwondo;Kung Fu;Capoeira;Karate;Kalari;Muay ...  Below 12yrs   \n",
            "8                                             Karate  Below 15yrs   \n",
            "9                                          Taekwondo  Below 12yrs   \n",
            "\n",
            "  Improve confidence Physical Toughness Mental Toughness and Resilience  \\\n",
            "0                Yes              Agree               Strongly disagree   \n",
            "1                Yes              Agree                           Agree   \n",
            "2                Yes              Agree                         Neutral   \n",
            "3                Yes              Agree                           Agree   \n",
            "4                Yes              Agree                           Agree   \n",
            "5                Yes              Agree                  Strongly agree   \n",
            "6                Yes          Can't Say                           Agree   \n",
            "7                Yes           Disagree               Strongly disagree   \n",
            "8                Yes              Agree                           Agree   \n",
            "9                Yes              Agree               Strongly disagree   \n",
            "\n",
            "   Aerobic and Anaerobic conditioning Fitness  \\\n",
            "0                                True     Yes   \n",
            "1                                True     Yes   \n",
            "2                                True     Yes   \n",
            "3                                True     Yes   \n",
            "4                                True     Yes   \n",
            "5                                True     Yes   \n",
            "6                                True   Maybe   \n",
            "7                               False      No   \n",
            "8                                True     Yes   \n",
            "9                                True     Yes   \n",
            "\n",
            "  Overall Body Coordination and Proprioception  \\\n",
            "0                            Strongly disagree   \n",
            "1                                        Agree   \n",
            "2                                        Agree   \n",
            "3                                        Agree   \n",
            "4                                        Agree   \n",
            "5                               Strongly Agree   \n",
            "6                                      Neutral   \n",
            "7                            Strongly disagree   \n",
            "8                                        Agree   \n",
            "9                            Strongly disagree   \n",
            "\n",
            "  Stress Relief and Improve Sleep Lose weight  \n",
            "0               Strongly disagree         Yes  \n",
            "1                           Agree         Yes  \n",
            "2                           Agree          No  \n",
            "3                           Agree         Yes  \n",
            "4                           Agree         Yes  \n",
            "5                           Agree         Yes  \n",
            "6                           Agree         Yes  \n",
            "7               Strongly disagree          No  \n",
            "8                           Agree         Yes  \n",
            "9               Strongly disagree         Yes  \n"
          ],
          "name": "stdout"
        }
      ]
    },
    {
      "cell_type": "code",
      "metadata": {
        "id": "F2IFBcvXwC-n"
      },
      "source": [
        "in_time=pd.read_csv('/content/MMA FIGHTERS & GYMS.csv')"
      ],
      "execution_count": 22,
      "outputs": []
    },
    {
      "cell_type": "code",
      "metadata": {
        "colab": {
          "base_uri": "https://localhost:8080/",
          "height": 957
        },
        "id": "6PzZeonHwQHe",
        "outputId": "39684572-9ac8-44b3-f927-97a6fef82146"
      },
      "source": [
        "in_time.head(10)"
      ],
      "execution_count": 23,
      "outputs": [
        {
          "output_type": "execute_result",
          "data": {
            "text/html": [
              "<div>\n",
              "<style scoped>\n",
              "    .dataframe tbody tr th:only-of-type {\n",
              "        vertical-align: middle;\n",
              "    }\n",
              "\n",
              "    .dataframe tbody tr th {\n",
              "        vertical-align: top;\n",
              "    }\n",
              "\n",
              "    .dataframe thead th {\n",
              "        text-align: right;\n",
              "    }\n",
              "</style>\n",
              "<table border=\"1\" class=\"dataframe\">\n",
              "  <thead>\n",
              "    <tr style=\"text-align: right;\">\n",
              "      <th></th>\n",
              "      <th>Timestamp</th>\n",
              "      <th>Name</th>\n",
              "      <th>Most entertaining</th>\n",
              "      <th>Age</th>\n",
              "      <th>Improve confidence</th>\n",
              "      <th>Physical Toughness</th>\n",
              "      <th>Mental Toughness and Resilience</th>\n",
              "      <th>Aerobic and Anaerobic conditioning</th>\n",
              "      <th>Fitness</th>\n",
              "      <th>Overall Body Coordination and Proprioception</th>\n",
              "      <th>Stress Relief and Improve Sleep</th>\n",
              "      <th>Lose weight</th>\n",
              "    </tr>\n",
              "  </thead>\n",
              "  <tbody>\n",
              "    <tr>\n",
              "      <th>0</th>\n",
              "      <td>2021/03/02 9:28:07 PM GMT+5:30</td>\n",
              "      <td>chinmay</td>\n",
              "      <td>Kung Fu;Capoeira;Karate;Kalari</td>\n",
              "      <td>Below 18yrs</td>\n",
              "      <td>Yes</td>\n",
              "      <td>Agree</td>\n",
              "      <td>Strongly disagree</td>\n",
              "      <td>True</td>\n",
              "      <td>Yes</td>\n",
              "      <td>Strongly disagree</td>\n",
              "      <td>Strongly disagree</td>\n",
              "      <td>Yes</td>\n",
              "    </tr>\n",
              "    <tr>\n",
              "      <th>1</th>\n",
              "      <td>2021/03/02 9:36:19 PM GMT+5:30</td>\n",
              "      <td>Simran mahadik</td>\n",
              "      <td>Taekwondo</td>\n",
              "      <td>Above 18yrs</td>\n",
              "      <td>Yes</td>\n",
              "      <td>Agree</td>\n",
              "      <td>Agree</td>\n",
              "      <td>True</td>\n",
              "      <td>Yes</td>\n",
              "      <td>Agree</td>\n",
              "      <td>Agree</td>\n",
              "      <td>Yes</td>\n",
              "    </tr>\n",
              "    <tr>\n",
              "      <th>2</th>\n",
              "      <td>2021/03/03 5:08:28 PM GMT+5:30</td>\n",
              "      <td>Anuja</td>\n",
              "      <td>Taekwondo;Karate</td>\n",
              "      <td>Below 15yrs</td>\n",
              "      <td>Yes</td>\n",
              "      <td>Agree</td>\n",
              "      <td>Neutral</td>\n",
              "      <td>True</td>\n",
              "      <td>Yes</td>\n",
              "      <td>Agree</td>\n",
              "      <td>Agree</td>\n",
              "      <td>No</td>\n",
              "    </tr>\n",
              "    <tr>\n",
              "      <th>3</th>\n",
              "      <td>2021/03/03 6:04:48 PM GMT+5:30</td>\n",
              "      <td>Sonali more</td>\n",
              "      <td>Karate</td>\n",
              "      <td>Below 15yrs</td>\n",
              "      <td>Yes</td>\n",
              "      <td>Agree</td>\n",
              "      <td>Agree</td>\n",
              "      <td>True</td>\n",
              "      <td>Yes</td>\n",
              "      <td>Agree</td>\n",
              "      <td>Agree</td>\n",
              "      <td>Yes</td>\n",
              "    </tr>\n",
              "    <tr>\n",
              "      <th>4</th>\n",
              "      <td>2021/03/04 4:24:27 PM GMT+5:30</td>\n",
              "      <td>Uma Jagkar</td>\n",
              "      <td>Kung Fu;Karate</td>\n",
              "      <td>Below 15yrs</td>\n",
              "      <td>Yes</td>\n",
              "      <td>Agree</td>\n",
              "      <td>Agree</td>\n",
              "      <td>True</td>\n",
              "      <td>Yes</td>\n",
              "      <td>Agree</td>\n",
              "      <td>Agree</td>\n",
              "      <td>Yes</td>\n",
              "    </tr>\n",
              "    <tr>\n",
              "      <th>5</th>\n",
              "      <td>2021/03/04 4:26:35 PM GMT+5:30</td>\n",
              "      <td>Neha Chauhan</td>\n",
              "      <td>Kung Fu;Karate;Kalari</td>\n",
              "      <td>Below 12yrs</td>\n",
              "      <td>Yes</td>\n",
              "      <td>Agree</td>\n",
              "      <td>Strongly agree</td>\n",
              "      <td>True</td>\n",
              "      <td>Yes</td>\n",
              "      <td>Strongly Agree</td>\n",
              "      <td>Agree</td>\n",
              "      <td>Yes</td>\n",
              "    </tr>\n",
              "    <tr>\n",
              "      <th>6</th>\n",
              "      <td>2021/03/04 4:26:56 PM GMT+5:30</td>\n",
              "      <td>Vishal Lanke</td>\n",
              "      <td>Taekwondo</td>\n",
              "      <td>Below 12yrs</td>\n",
              "      <td>Yes</td>\n",
              "      <td>Can't Say</td>\n",
              "      <td>Agree</td>\n",
              "      <td>True</td>\n",
              "      <td>Maybe</td>\n",
              "      <td>Neutral</td>\n",
              "      <td>Agree</td>\n",
              "      <td>Yes</td>\n",
              "    </tr>\n",
              "    <tr>\n",
              "      <th>7</th>\n",
              "      <td>2021/03/04 4:28:40 PM GMT+5:30</td>\n",
              "      <td>Manisha Bisht</td>\n",
              "      <td>Taekwondo;Kung Fu;Capoeira;Karate;Kalari;Muay ...</td>\n",
              "      <td>Below 12yrs</td>\n",
              "      <td>Yes</td>\n",
              "      <td>Disagree</td>\n",
              "      <td>Strongly disagree</td>\n",
              "      <td>False</td>\n",
              "      <td>No</td>\n",
              "      <td>Strongly disagree</td>\n",
              "      <td>Strongly disagree</td>\n",
              "      <td>No</td>\n",
              "    </tr>\n",
              "    <tr>\n",
              "      <th>8</th>\n",
              "      <td>2021/03/04 4:29:15 PM GMT+5:30</td>\n",
              "      <td>Shubham Gawade</td>\n",
              "      <td>Karate</td>\n",
              "      <td>Below 15yrs</td>\n",
              "      <td>Yes</td>\n",
              "      <td>Agree</td>\n",
              "      <td>Agree</td>\n",
              "      <td>True</td>\n",
              "      <td>Yes</td>\n",
              "      <td>Agree</td>\n",
              "      <td>Agree</td>\n",
              "      <td>Yes</td>\n",
              "    </tr>\n",
              "    <tr>\n",
              "      <th>9</th>\n",
              "      <td>2021/03/04 4:35:47 PM GMT+5:30</td>\n",
              "      <td>Rahul kumar</td>\n",
              "      <td>Taekwondo</td>\n",
              "      <td>Below 12yrs</td>\n",
              "      <td>Yes</td>\n",
              "      <td>Agree</td>\n",
              "      <td>Strongly disagree</td>\n",
              "      <td>True</td>\n",
              "      <td>Yes</td>\n",
              "      <td>Strongly disagree</td>\n",
              "      <td>Strongly disagree</td>\n",
              "      <td>Yes</td>\n",
              "    </tr>\n",
              "  </tbody>\n",
              "</table>\n",
              "</div>"
            ],
            "text/plain": [
              "                        Timestamp            Name  \\\n",
              "0  2021/03/02 9:28:07 PM GMT+5:30         chinmay   \n",
              "1  2021/03/02 9:36:19 PM GMT+5:30  Simran mahadik   \n",
              "2  2021/03/03 5:08:28 PM GMT+5:30           Anuja   \n",
              "3  2021/03/03 6:04:48 PM GMT+5:30    Sonali more    \n",
              "4  2021/03/04 4:24:27 PM GMT+5:30     Uma Jagkar    \n",
              "5  2021/03/04 4:26:35 PM GMT+5:30    Neha Chauhan   \n",
              "6  2021/03/04 4:26:56 PM GMT+5:30    Vishal Lanke   \n",
              "7  2021/03/04 4:28:40 PM GMT+5:30   Manisha Bisht   \n",
              "8  2021/03/04 4:29:15 PM GMT+5:30  Shubham Gawade   \n",
              "9  2021/03/04 4:35:47 PM GMT+5:30     Rahul kumar   \n",
              "\n",
              "                                   Most entertaining          Age  \\\n",
              "0                     Kung Fu;Capoeira;Karate;Kalari  Below 18yrs   \n",
              "1                                          Taekwondo  Above 18yrs   \n",
              "2                                   Taekwondo;Karate  Below 15yrs   \n",
              "3                                             Karate  Below 15yrs   \n",
              "4                                     Kung Fu;Karate  Below 15yrs   \n",
              "5                              Kung Fu;Karate;Kalari  Below 12yrs   \n",
              "6                                          Taekwondo  Below 12yrs   \n",
              "7  Taekwondo;Kung Fu;Capoeira;Karate;Kalari;Muay ...  Below 12yrs   \n",
              "8                                             Karate  Below 15yrs   \n",
              "9                                          Taekwondo  Below 12yrs   \n",
              "\n",
              "  Improve confidence Physical Toughness Mental Toughness and Resilience  \\\n",
              "0                Yes              Agree               Strongly disagree   \n",
              "1                Yes              Agree                           Agree   \n",
              "2                Yes              Agree                         Neutral   \n",
              "3                Yes              Agree                           Agree   \n",
              "4                Yes              Agree                           Agree   \n",
              "5                Yes              Agree                  Strongly agree   \n",
              "6                Yes          Can't Say                           Agree   \n",
              "7                Yes           Disagree               Strongly disagree   \n",
              "8                Yes              Agree                           Agree   \n",
              "9                Yes              Agree               Strongly disagree   \n",
              "\n",
              "   Aerobic and Anaerobic conditioning Fitness  \\\n",
              "0                                True     Yes   \n",
              "1                                True     Yes   \n",
              "2                                True     Yes   \n",
              "3                                True     Yes   \n",
              "4                                True     Yes   \n",
              "5                                True     Yes   \n",
              "6                                True   Maybe   \n",
              "7                               False      No   \n",
              "8                                True     Yes   \n",
              "9                                True     Yes   \n",
              "\n",
              "  Overall Body Coordination and Proprioception  \\\n",
              "0                            Strongly disagree   \n",
              "1                                        Agree   \n",
              "2                                        Agree   \n",
              "3                                        Agree   \n",
              "4                                        Agree   \n",
              "5                               Strongly Agree   \n",
              "6                                      Neutral   \n",
              "7                            Strongly disagree   \n",
              "8                                        Agree   \n",
              "9                            Strongly disagree   \n",
              "\n",
              "  Stress Relief and Improve Sleep Lose weight  \n",
              "0               Strongly disagree         Yes  \n",
              "1                           Agree         Yes  \n",
              "2                           Agree          No  \n",
              "3                           Agree         Yes  \n",
              "4                           Agree         Yes  \n",
              "5                           Agree         Yes  \n",
              "6                           Agree         Yes  \n",
              "7               Strongly disagree          No  \n",
              "8                           Agree         Yes  \n",
              "9               Strongly disagree         Yes  "
            ]
          },
          "metadata": {
            "tags": []
          },
          "execution_count": 23
        }
      ]
    },
    {
      "cell_type": "code",
      "metadata": {
        "id": "66K_cnNQfnp-"
      },
      "source": [
        "#gb1.dropna(inplace=True)"
      ],
      "execution_count": null,
      "outputs": []
    },
    {
      "cell_type": "code",
      "metadata": {
        "colab": {
          "base_uri": "https://localhost:8080/"
        },
        "id": "0Nr3Rv8kgDEI",
        "outputId": "f81330ae-d455-410d-a329-3ecab446d7ba"
      },
      "source": [
        "gb1.isnull().sum()"
      ],
      "execution_count": 24,
      "outputs": [
        {
          "output_type": "execute_result",
          "data": {
            "text/plain": [
              "Timestamp                                       0\n",
              "Name                                            0\n",
              "Most entertaining                               0\n",
              "Age                                             0\n",
              "Improve confidence                              0\n",
              "Physical Toughness                              0\n",
              "Mental Toughness and Resilience                 0\n",
              "Aerobic and Anaerobic conditioning              0\n",
              "Fitness                                         0\n",
              "Overall Body Coordination and Proprioception    0\n",
              "Stress Relief and Improve Sleep                 0\n",
              "Lose weight                                     0\n",
              "dtype: int64"
            ]
          },
          "metadata": {
            "tags": []
          },
          "execution_count": 24
        }
      ]
    },
    {
      "cell_type": "code",
      "metadata": {
        "colab": {
          "base_uri": "https://localhost:8080/"
        },
        "id": "1KhE3B6fnlPZ",
        "outputId": "f02756ff-2412-48cd-d5e8-6be47332958c"
      },
      "source": [
        "gb1.shape"
      ],
      "execution_count": 25,
      "outputs": [
        {
          "output_type": "execute_result",
          "data": {
            "text/plain": [
              "(254, 12)"
            ]
          },
          "metadata": {
            "tags": []
          },
          "execution_count": 25
        }
      ]
    },
    {
      "cell_type": "markdown",
      "metadata": {
        "id": "j7VHkebrA79k"
      },
      "source": [
        "CountPlot Graph"
      ]
    },
    {
      "cell_type": "code",
      "metadata": {
        "colab": {
          "base_uri": "https://localhost:8080/",
          "height": 295
        },
        "id": "oeWZFhFg13cZ",
        "outputId": "fcd03123-9d0d-45bf-d687-33eca08aa60f"
      },
      "source": [
        "sns.countplot(x='Lose weight',data=gb1)\n",
        "plt.title(\"Lose weight\")\n",
        "plt.show()"
      ],
      "execution_count": 26,
      "outputs": [
        {
          "output_type": "display_data",
          "data": {
            "image/png": "[encoded data removed]",
            "text/plain": [
              "<Figure size 432x288 with 1 Axes>"
            ]
          },
          "metadata": {
            "tags": [],
            "needs_background": "light"
          }
        }
      ]
    },
    {
      "cell_type": "code",
      "metadata": {
        "colab": {
          "base_uri": "https://localhost:8080/",
          "height": 295
        },
        "id": "1wR9bosq5RaS",
        "outputId": "a5be06b7-ce18-434c-86c9-f403ecc56d9c"
      },
      "source": [
        "sns.countplot(x='Improve confidence',data=gb1)\n",
        "plt.title(\"Improve confidence\")\n",
        "plt.show()"
      ],
      "execution_count": 27,
      "outputs": [
        {
          "output_type": "display_data",
          "data": {
            "image/png": "[encoded data removed]",
            "text/plain": [
              "<Figure size 432x288 with 1 Axes>"
            ]
          },
          "metadata": {
            "tags": [],
            "needs_background": "light"
          }
        }
      ]
    },
    {
      "cell_type": "code",
      "metadata": {
        "colab": {
          "base_uri": "https://localhost:8080/",
          "height": 295
        },
        "id": "ltVJU9FK3AKd",
        "outputId": "ecc7ba85-73e3-4bbb-a6df-997e9728ed34"
      },
      "source": [
        "sns.countplot(x='Physical Toughness',data=gb1)\n",
        "plt.title(\"Physical Toughness\")\n",
        "plt.show()"
      ],
      "execution_count": 28,
      "outputs": [
        {
          "output_type": "display_data",
          "data": {
            "image/png": "[encoded data removed]",
            "text/plain": [
              "<Figure size 432x288 with 1 Axes>"
            ]
          },
          "metadata": {
            "tags": [],
            "needs_background": "light"
          }
        }
      ]
    },
    {
      "cell_type": "code",
      "metadata": {
        "colab": {
          "base_uri": "https://localhost:8080/",
          "height": 295
        },
        "id": "HeeiGFXM5GqM",
        "outputId": "1278d0c9-c238-4b35-a330-4153993352b3"
      },
      "source": [
        "sns.countplot(x='Fitness',data=gb1)\n",
        "plt.title(\"Fitness\")\n",
        "plt.show()"
      ],
      "execution_count": 29,
      "outputs": [
        {
          "output_type": "display_data",
          "data": {
            "image/png": "[encoded data removed]",
            "text/plain": [
              "<Figure size 432x288 with 1 Axes>"
            ]
          },
          "metadata": {
            "tags": [],
            "needs_background": "light"
          }
        }
      ]
    },
    {
      "cell_type": "code",
      "metadata": {
        "colab": {
          "base_uri": "https://localhost:8080/",
          "height": 295
        },
        "id": "8asdumTXAEAS",
        "outputId": "414cca0b-d0fc-4480-df30-2a0ec7c22e83"
      },
      "source": [
        "sns.countplot(x='Aerobic and Anaerobic conditioning',data=gb1)\n",
        "plt.title(\"Aerobic and Anaerobic conditioning\")\n",
        "plt.show()"
      ],
      "execution_count": 30,
      "outputs": [
        {
          "output_type": "display_data",
          "data": {
            "image/png": "[encoded data removed]",
            "text/plain": [
              "<Figure size 432x288 with 1 Axes>"
            ]
          },
          "metadata": {
            "tags": [],
            "needs_background": "light"
          }
        }
      ]
    },
    {
      "cell_type": "code",
      "metadata": {
        "colab": {
          "base_uri": "https://localhost:8080/",
          "height": 295
        },
        "id": "hhWmFyOgArrk",
        "outputId": "8ab28e88-3762-42d9-df17-6ee748c4a45b"
      },
      "source": [
        "sns.countplot(x='Overall Body Coordination and Proprioception',data=gb1)\n",
        "plt.title(\"Overall Body Coordination and Proprioception\")\n",
        "plt.show()"
      ],
      "execution_count": 31,
      "outputs": [
        {
          "output_type": "display_data",
          "data": {
            "image/png": "[encoded data removed]",
            "text/plain": [
              "<Figure size 432x288 with 1 Axes>"
            ]
          },
          "metadata": {
            "tags": [],
            "needs_background": "light"
          }
        }
      ]
    },
    {
      "cell_type": "code",
      "metadata": {
        "colab": {
          "base_uri": "https://localhost:8080/",
          "height": 295
        },
        "id": "d1KjYenquYwr",
        "outputId": "11f1aa6c-d230-4fdb-c63f-e1b647b79ec7"
      },
      "source": [
        "sns.countplot(x='Age',data=gb1)\n",
        "plt.title(\"Age\")\n",
        "plt.show()"
      ],
      "execution_count": 35,
      "outputs": [
        {
          "output_type": "display_data",
          "data": {
            "image/png": "[encoded data removed]",
            "text/plain": [
              "<Figure size 432x288 with 1 Axes>"
            ]
          },
          "metadata": {
            "tags": [],
            "needs_background": "light"
          }
        }
      ]
    },
    {
      "cell_type": "code",
      "metadata": {
        "colab": {
          "base_uri": "https://localhost:8080/",
          "height": 295
        },
        "id": "uiuT-VDJuK69",
        "outputId": "ac473259-5e96-42a5-cca6-65ab4684ff7d"
      },
      "source": [
        "sns.countplot(x='Mental Toughness and Resilience',data=gb1)\n",
        "plt.title(\"Mental Toughness and Resilience\")\n",
        "plt.show()"
      ],
      "execution_count": 36,
      "outputs": [
        {
          "output_type": "display_data",
          "data": {
            "image/png": "[encoded data removed]",
            "text/plain": [
              "<Figure size 432x288 with 1 Axes>"
            ]
          },
          "metadata": {
            "tags": [],
            "needs_background": "light"
          }
        }
      ]
    },
    {
      "cell_type": "code",
      "metadata": {
        "colab": {
          "base_uri": "https://localhost:8080/",
          "height": 295
        },
        "id": "Z00rBa10BG08",
        "outputId": "3819a0f9-8533-4c0c-e1c8-8e309e3146f6"
      },
      "source": [
        "sns.countplot(x='Stress Relief and Improve Sleep',data=gb1)\n",
        "plt.title(\"Stress Relief and Improve Sleep\")\n",
        "plt.show()"
      ],
      "execution_count": 37,
      "outputs": [
        {
          "output_type": "display_data",
          "data": {
            "image/png": "[encoded data removed]",
            "text/plain": [
              "<Figure size 432x288 with 1 Axes>"
            ]
          },
          "metadata": {
            "tags": [],
            "needs_background": "light"
          }
        }
      ]
    },
    {
      "cell_type": "markdown",
      "metadata": {
        "id": "O5WwnlX9Cqip"
      },
      "source": [
        "value counts"
      ]
    },
    {
      "cell_type": "code",
      "metadata": {
        "colab": {
          "base_uri": "https://localhost:8080/"
        },
        "id": "aPPE0bOACEsi",
        "outputId": "39f71cc2-9181-4a19-d776-a56fade4cdcc"
      },
      "source": [
        "gb1['Mental Toughness and Resilience'].value_counts(ascending=True)"
      ],
      "execution_count": 38,
      "outputs": [
        {
          "output_type": "execute_result",
          "data": {
            "text/plain": [
              "Disagree             31\n",
              "Strongly disagree    32\n",
              "Strongly agree       33\n",
              "Agree                77\n",
              "Neutral              81\n",
              "Name: Mental Toughness and Resilience, dtype: int64"
            ]
          },
          "metadata": {
            "tags": []
          },
          "execution_count": 38
        }
      ]
    },
    {
      "cell_type": "code",
      "metadata": {
        "colab": {
          "base_uri": "https://localhost:8080/"
        },
        "id": "FQiynFNPoqic",
        "outputId": "f78120c1-90be-4125-f6ef-988f629cb3a4"
      },
      "source": [
        "gb1['Overall Body Coordination and Proprioception'].value_counts(ascending=True)"
      ],
      "execution_count": 44,
      "outputs": [
        {
          "output_type": "execute_result",
          "data": {
            "text/plain": [
              "Strongly disagree     25\n",
              "Disagree              29\n",
              "Strongly Agree        34\n",
              "Neutral               64\n",
              "Agree                102\n",
              "Name: Overall Body Coordination and Proprioception, dtype: int64"
            ]
          },
          "metadata": {
            "tags": []
          },
          "execution_count": 44
        }
      ]
    },
    {
      "cell_type": "code",
      "metadata": {
        "colab": {
          "base_uri": "https://localhost:8080/"
        },
        "id": "AFrBi9kEob-I",
        "outputId": "f9386155-cc6b-4582-c2c2-82187481e0cc"
      },
      "source": [
        "gb1['Lose weight'].value_counts(ascending=True)"
      ],
      "execution_count": 43,
      "outputs": [
        {
          "output_type": "execute_result",
          "data": {
            "text/plain": [
              "May be     32\n",
              "No         49\n",
              "Yes       173\n",
              "Name: Lose weight, dtype: int64"
            ]
          },
          "metadata": {
            "tags": []
          },
          "execution_count": 43
        }
      ]
    },
    {
      "cell_type": "code",
      "metadata": {
        "colab": {
          "base_uri": "https://localhost:8080/"
        },
        "id": "6qLyOm8yoLpH",
        "outputId": "10c21715-5c12-4e1d-a514-d7b0af308339"
      },
      "source": [
        "gb1['Physical Toughness'].value_counts(ascending=True)"
      ],
      "execution_count": 42,
      "outputs": [
        {
          "output_type": "execute_result",
          "data": {
            "text/plain": [
              "Can't Say     28\n",
              "Disagree      61\n",
              "Agree        165\n",
              "Name: Physical Toughness, dtype: int64"
            ]
          },
          "metadata": {
            "tags": []
          },
          "execution_count": 42
        }
      ]
    },
    {
      "cell_type": "code",
      "metadata": {
        "colab": {
          "base_uri": "https://localhost:8080/"
        },
        "id": "F0V9i7M5n_oM",
        "outputId": "a9ef6eea-407a-4e5c-a4fe-6bd8ec8eb3ff"
      },
      "source": [
        "gb1['Improve confidence'].value_counts(ascending=True)"
      ],
      "execution_count": 41,
      "outputs": [
        {
          "output_type": "execute_result",
          "data": {
            "text/plain": [
              "No      28\n",
              "Yes    226\n",
              "Name: Improve confidence, dtype: int64"
            ]
          },
          "metadata": {
            "tags": []
          },
          "execution_count": 41
        }
      ]
    },
    {
      "cell_type": "code",
      "metadata": {
        "colab": {
          "base_uri": "https://localhost:8080/"
        },
        "id": "FOzSxWlMCmp8",
        "outputId": "df2096a2-5792-4a92-e9c0-44b067f55852"
      },
      "source": [
        "gb1['Fitness'].value_counts(ascending=True)"
      ],
      "execution_count": 39,
      "outputs": [
        {
          "output_type": "execute_result",
          "data": {
            "text/plain": [
              "Maybe     41\n",
              "No        60\n",
              "Yes      153\n",
              "Name: Fitness, dtype: int64"
            ]
          },
          "metadata": {
            "tags": []
          },
          "execution_count": 39
        }
      ]
    },
    {
      "cell_type": "code",
      "metadata": {
        "id": "QAdL4sCfDMeA"
      },
      "source": [
        "#gb1.corr()"
      ],
      "execution_count": null,
      "outputs": []
    },
    {
      "cell_type": "code",
      "metadata": {
        "colab": {
          "base_uri": "https://localhost:8080/",
          "height": 655
        },
        "id": "DYgD2JrGu2mK",
        "outputId": "6d15f96f-61d9-4d22-fde5-8e339a0e7b3b"
      },
      "source": [
        "\n",
        "plt.figure(figsize=(8,8))\n",
        "ax = sns.countplot(x='Fitness',data=gb1,hue=\"Physical Toughness\")\n",
        "bars = ax.patches\n",
        "half = int(len(bars)/2)\n",
        "left_bars = bars[:half]\n",
        "right_bars = bars[half:]\n",
        "\n",
        "for left, right in zip(left_bars, right_bars):\n",
        "    height_l = left.get_height()\n",
        "    height_r = right.get_height()\n",
        "    total = height_l + height_r\n",
        "\n",
        "    ax.text(left.get_x() + left.get_width()/2., height_l + 50, '{0:.0%}'.format(height_l/total), ha=\"center\")\n",
        "    ax.text(right.get_x() + right.get_width()/2., height_r + 50, '{0:.0%}'.format(height_r/total), ha=\"center\")"
      ],
      "execution_count": null,
      "outputs": [
        {
          "output_type": "display_data",
          "data": {
            "image/png": "[encoded data removed]",
            "text/plain": [
              "<Figure size 576x576 with 1 Axes>"
            ]
          },
          "metadata": {
            "tags": [],
            "needs_background": "light"
          }
        }
      ]
    },
    {
      "cell_type": "code",
      "metadata": {
        "colab": {
          "base_uri": "https://localhost:8080/",
          "height": 658
        },
        "id": "wxy6L8c9D5CS",
        "outputId": "8e6383b4-c5ea-49bc-84f8-9c4bb91d11ea"
      },
      "source": [
        "plt.figure(figsize=(8,8))\n",
        "ax = sns.countplot(x='Fitness',data=gb1,hue=\"Lose weight\")\n",
        "bars = ax.patches\n",
        "half = int(len(bars)/2)\n",
        "left_bars = bars[:half]\n",
        "right_bars = bars[half:]\n",
        "\n",
        "for left, right in zip(left_bars, right_bars):\n",
        "    height_l = left.get_height()\n",
        "    height_r = right.get_height()\n",
        "    total = height_l + height_r\n",
        "\n",
        "    ax.text(left.get_x() + left.get_width()/2., height_l + 50, '{0:.0%}'.format(height_l/total), ha=\"center\")\n",
        "    ax.text(right.get_x() + right.get_width()/2., height_r + 50, '{0:.0%}'.format(height_r/total), ha=\"center\")"
      ],
      "execution_count": null,
      "outputs": [
        {
          "output_type": "display_data",
          "data": {
            "image/png": "[encoded data removed]",
            "text/plain": [
              "<Figure size 576x576 with 1 Axes>"
            ]
          },
          "metadata": {
            "tags": [],
            "needs_background": "light"
          }
        }
      ]
    },
    {
      "cell_type": "markdown",
      "metadata": {
        "id": "diy0ysGNyJWo"
      },
      "source": [
        "histogram\n"
      ]
    },
    {
      "cell_type": "code",
      "metadata": {
        "colab": {
          "base_uri": "https://localhost:8080/",
          "height": 295
        },
        "id": "ysc8MxqlFi1S",
        "outputId": "716d47a4-24a4-4776-80f2-de20627a91bb"
      },
      "source": [
        "plt.scatter(x=\"Lose weight\" ,y=\"Fitness\")\n",
        "plt.title('Scatter plot pythonspot.com')\n",
        "plt.xlabel('x')\n",
        "plt.ylabel('y')\n",
        "plt.show()"
      ],
      "execution_count": null,
      "outputs": [
        {
          "output_type": "display_data",
          "data": {
            "image/png": "[encoded data removed]",
            "text/plain": [
              "<Figure size 432x288 with 1 Axes>"
            ]
          },
          "metadata": {
            "tags": [],
            "needs_background": "light"
          }
        }
      ]
    },
    {
      "cell_type": "markdown",
      "metadata": {
        "id": "pmCluymJwBEn"
      },
      "source": [
        "Deleting Name column"
      ]
    },
    {
      "cell_type": "code",
      "metadata": {
        "id": "JGA9czyRvMlk"
      },
      "source": [
        "from sklearn.model_selection import train_test_split"
      ],
      "execution_count": null,
      "outputs": []
    },
    {
      "cell_type": "code",
      "metadata": {
        "id": "AcHZH1k4vm16"
      },
      "source": [
        "X = gb1.drop(['Timestamp'], axis=1)"
      ],
      "execution_count": null,
      "outputs": []
    },
    {
      "cell_type": "code",
      "metadata": {
        "id": "y2jOhINav9mq"
      },
      "source": [
        "y = gb1['Timestamp']"
      ],
      "execution_count": null,
      "outputs": []
    },
    {
      "cell_type": "code",
      "metadata": {
        "id": "nGUdzXEIwPw5"
      },
      "source": [
        "X_train, X_test, y_train, y_test = train_test_split(X, y, test_size=0.2, random_state=42)"
      ],
      "execution_count": null,
      "outputs": []
    },
    {
      "cell_type": "code",
      "metadata": {
        "id": "hdD_a17cwV5l"
      },
      "source": [
        "from sklearn.tree import DecisionTreeClassifier"
      ],
      "execution_count": null,
      "outputs": []
    },
    {
      "cell_type": "code",
      "metadata": {
        "id": "kwpKA48qwaVg"
      },
      "source": [
        "dct=DecisionTreeClassifier(random_state=42)"
      ],
      "execution_count": null,
      "outputs": []
    },
    {
      "cell_type": "code",
      "metadata": {
        "colab": {
          "base_uri": "https://localhost:8080/",
          "height": 306
        },
        "id": "S0ajcRPuwfFm",
        "outputId": "63107837-ef2e-4a5d-8c0a-c2ee1e362e2a"
      },
      "source": [
        "dct.fit(X_train,y_train)"
      ],
      "execution_count": null,
      "outputs": [
        {
          "output_type": "error",
          "ename": "ValueError",
          "evalue": "ignored",
          "traceback": [
            "\u001b[0;31m---------------------------------------------------------------------------\u001b[0m",
            "\u001b[0;31mValueError\u001b[0m                                Traceback (most recent call last)",
            "\u001b[0;32m<ipython-input-43-61ea63c8964b>\u001b[0m in \u001b[0;36m<module>\u001b[0;34m()\u001b[0m\n\u001b[0;32m----> 1\u001b[0;31m \u001b[0mdct\u001b[0m\u001b[0;34m.\u001b[0m\u001b[0mfit\u001b[0m\u001b[0;34m(\u001b[0m\u001b[0mX_train\u001b[0m\u001b[0;34m,\u001b[0m\u001b[0my_train\u001b[0m\u001b[0;34m)\u001b[0m\u001b[0;34m\u001b[0m\u001b[0;34m\u001b[0m\u001b[0m\n\u001b[0m",
            "\u001b[0;32m/usr/local/lib/python3.7/dist-packages/sklearn/tree/_classes.py\u001b[0m in \u001b[0;36mfit\u001b[0;34m(self, X, y, sample_weight, check_input, X_idx_sorted)\u001b[0m\n\u001b[1;32m    875\u001b[0m             \u001b[0msample_weight\u001b[0m\u001b[0;34m=\u001b[0m\u001b[0msample_weight\u001b[0m\u001b[0;34m,\u001b[0m\u001b[0;34m\u001b[0m\u001b[0;34m\u001b[0m\u001b[0m\n\u001b[1;32m    876\u001b[0m             \u001b[0mcheck_input\u001b[0m\u001b[0;34m=\u001b[0m\u001b[0mcheck_input\u001b[0m\u001b[0;34m,\u001b[0m\u001b[0;34m\u001b[0m\u001b[0;34m\u001b[0m\u001b[0m\n\u001b[0;32m--> 877\u001b[0;31m             X_idx_sorted=X_idx_sorted)\n\u001b[0m\u001b[1;32m    878\u001b[0m         \u001b[0;32mreturn\u001b[0m \u001b[0mself\u001b[0m\u001b[0;34m\u001b[0m\u001b[0;34m\u001b[0m\u001b[0m\n\u001b[1;32m    879\u001b[0m \u001b[0;34m\u001b[0m\u001b[0m\n",
            "\u001b[0;32m/usr/local/lib/python3.7/dist-packages/sklearn/tree/_classes.py\u001b[0m in \u001b[0;36mfit\u001b[0;34m(self, X, y, sample_weight, check_input, X_idx_sorted)\u001b[0m\n\u001b[1;32m    147\u001b[0m \u001b[0;34m\u001b[0m\u001b[0m\n\u001b[1;32m    148\u001b[0m         \u001b[0;32mif\u001b[0m \u001b[0mcheck_input\u001b[0m\u001b[0;34m:\u001b[0m\u001b[0;34m\u001b[0m\u001b[0;34m\u001b[0m\u001b[0m\n\u001b[0;32m--> 149\u001b[0;31m             \u001b[0mX\u001b[0m \u001b[0;34m=\u001b[0m \u001b[0mcheck_array\u001b[0m\u001b[0;34m(\u001b[0m\u001b[0mX\u001b[0m\u001b[0;34m,\u001b[0m \u001b[0mdtype\u001b[0m\u001b[0;34m=\u001b[0m\u001b[0mDTYPE\u001b[0m\u001b[0;34m,\u001b[0m \u001b[0maccept_sparse\u001b[0m\u001b[0;34m=\u001b[0m\u001b[0;34m\"csc\"\u001b[0m\u001b[0;34m)\u001b[0m\u001b[0;34m\u001b[0m\u001b[0;34m\u001b[0m\u001b[0m\n\u001b[0m\u001b[1;32m    150\u001b[0m             \u001b[0my\u001b[0m \u001b[0;34m=\u001b[0m \u001b[0mcheck_array\u001b[0m\u001b[0;34m(\u001b[0m\u001b[0my\u001b[0m\u001b[0;34m,\u001b[0m \u001b[0mensure_2d\u001b[0m\u001b[0;34m=\u001b[0m\u001b[0;32mFalse\u001b[0m\u001b[0;34m,\u001b[0m \u001b[0mdtype\u001b[0m\u001b[0;34m=\u001b[0m\u001b[0;32mNone\u001b[0m\u001b[0;34m)\u001b[0m\u001b[0;34m\u001b[0m\u001b[0;34m\u001b[0m\u001b[0m\n\u001b[1;32m    151\u001b[0m             \u001b[0;32mif\u001b[0m \u001b[0missparse\u001b[0m\u001b[0;34m(\u001b[0m\u001b[0mX\u001b[0m\u001b[0;34m)\u001b[0m\u001b[0;34m:\u001b[0m\u001b[0;34m\u001b[0m\u001b[0;34m\u001b[0m\u001b[0m\n",
            "\u001b[0;32m/usr/local/lib/python3.7/dist-packages/sklearn/utils/validation.py\u001b[0m in \u001b[0;36mcheck_array\u001b[0;34m(array, accept_sparse, accept_large_sparse, dtype, order, copy, force_all_finite, ensure_2d, allow_nd, ensure_min_samples, ensure_min_features, warn_on_dtype, estimator)\u001b[0m\n\u001b[1;32m    529\u001b[0m                     \u001b[0marray\u001b[0m \u001b[0;34m=\u001b[0m \u001b[0marray\u001b[0m\u001b[0;34m.\u001b[0m\u001b[0mastype\u001b[0m\u001b[0;34m(\u001b[0m\u001b[0mdtype\u001b[0m\u001b[0;34m,\u001b[0m \u001b[0mcasting\u001b[0m\u001b[0;34m=\u001b[0m\u001b[0;34m\"unsafe\"\u001b[0m\u001b[0;34m,\u001b[0m \u001b[0mcopy\u001b[0m\u001b[0;34m=\u001b[0m\u001b[0;32mFalse\u001b[0m\u001b[0;34m)\u001b[0m\u001b[0;34m\u001b[0m\u001b[0;34m\u001b[0m\u001b[0m\n\u001b[1;32m    530\u001b[0m                 \u001b[0;32melse\u001b[0m\u001b[0;34m:\u001b[0m\u001b[0;34m\u001b[0m\u001b[0;34m\u001b[0m\u001b[0m\n\u001b[0;32m--> 531\u001b[0;31m                     \u001b[0marray\u001b[0m \u001b[0;34m=\u001b[0m \u001b[0mnp\u001b[0m\u001b[0;34m.\u001b[0m\u001b[0masarray\u001b[0m\u001b[0;34m(\u001b[0m\u001b[0marray\u001b[0m\u001b[0;34m,\u001b[0m \u001b[0morder\u001b[0m\u001b[0;34m=\u001b[0m\u001b[0morder\u001b[0m\u001b[0;34m,\u001b[0m \u001b[0mdtype\u001b[0m\u001b[0;34m=\u001b[0m\u001b[0mdtype\u001b[0m\u001b[0;34m)\u001b[0m\u001b[0;34m\u001b[0m\u001b[0;34m\u001b[0m\u001b[0m\n\u001b[0m\u001b[1;32m    532\u001b[0m             \u001b[0;32mexcept\u001b[0m \u001b[0mComplexWarning\u001b[0m\u001b[0;34m:\u001b[0m\u001b[0;34m\u001b[0m\u001b[0;34m\u001b[0m\u001b[0m\n\u001b[1;32m    533\u001b[0m                 raise ValueError(\"Complex data not supported\\n\"\n",
            "\u001b[0;32m/usr/local/lib/python3.7/dist-packages/numpy/core/_asarray.py\u001b[0m in \u001b[0;36masarray\u001b[0;34m(a, dtype, order)\u001b[0m\n\u001b[1;32m     81\u001b[0m \u001b[0;34m\u001b[0m\u001b[0m\n\u001b[1;32m     82\u001b[0m     \"\"\"\n\u001b[0;32m---> 83\u001b[0;31m     \u001b[0;32mreturn\u001b[0m \u001b[0marray\u001b[0m\u001b[0;34m(\u001b[0m\u001b[0ma\u001b[0m\u001b[0;34m,\u001b[0m \u001b[0mdtype\u001b[0m\u001b[0;34m,\u001b[0m \u001b[0mcopy\u001b[0m\u001b[0;34m=\u001b[0m\u001b[0;32mFalse\u001b[0m\u001b[0;34m,\u001b[0m \u001b[0morder\u001b[0m\u001b[0;34m=\u001b[0m\u001b[0morder\u001b[0m\u001b[0;34m)\u001b[0m\u001b[0;34m\u001b[0m\u001b[0;34m\u001b[0m\u001b[0m\n\u001b[0m\u001b[1;32m     84\u001b[0m \u001b[0;34m\u001b[0m\u001b[0m\n\u001b[1;32m     85\u001b[0m \u001b[0;34m\u001b[0m\u001b[0m\n",
            "\u001b[0;32m/usr/local/lib/python3.7/dist-packages/pandas/core/generic.py\u001b[0m in \u001b[0;36m__array__\u001b[0;34m(self, dtype)\u001b[0m\n\u001b[1;32m   1779\u001b[0m \u001b[0;34m\u001b[0m\u001b[0m\n\u001b[1;32m   1780\u001b[0m     \u001b[0;32mdef\u001b[0m \u001b[0m__array__\u001b[0m\u001b[0;34m(\u001b[0m\u001b[0mself\u001b[0m\u001b[0;34m,\u001b[0m \u001b[0mdtype\u001b[0m\u001b[0;34m=\u001b[0m\u001b[0;32mNone\u001b[0m\u001b[0;34m)\u001b[0m \u001b[0;34m->\u001b[0m \u001b[0mnp\u001b[0m\u001b[0;34m.\u001b[0m\u001b[0mndarray\u001b[0m\u001b[0;34m:\u001b[0m\u001b[0;34m\u001b[0m\u001b[0;34m\u001b[0m\u001b[0m\n\u001b[0;32m-> 1781\u001b[0;31m         \u001b[0;32mreturn\u001b[0m \u001b[0mnp\u001b[0m\u001b[0;34m.\u001b[0m\u001b[0masarray\u001b[0m\u001b[0;34m(\u001b[0m\u001b[0mself\u001b[0m\u001b[0;34m.\u001b[0m\u001b[0m_values\u001b[0m\u001b[0;34m,\u001b[0m \u001b[0mdtype\u001b[0m\u001b[0;34m=\u001b[0m\u001b[0mdtype\u001b[0m\u001b[0;34m)\u001b[0m\u001b[0;34m\u001b[0m\u001b[0;34m\u001b[0m\u001b[0m\n\u001b[0m\u001b[1;32m   1782\u001b[0m \u001b[0;34m\u001b[0m\u001b[0m\n\u001b[1;32m   1783\u001b[0m     \u001b[0;32mdef\u001b[0m \u001b[0m__array_wrap__\u001b[0m\u001b[0;34m(\u001b[0m\u001b[0mself\u001b[0m\u001b[0;34m,\u001b[0m \u001b[0mresult\u001b[0m\u001b[0;34m,\u001b[0m \u001b[0mcontext\u001b[0m\u001b[0;34m=\u001b[0m\u001b[0;32mNone\u001b[0m\u001b[0;34m)\u001b[0m\u001b[0;34m:\u001b[0m\u001b[0;34m\u001b[0m\u001b[0;34m\u001b[0m\u001b[0m\n",
            "\u001b[0;32m/usr/local/lib/python3.7/dist-packages/numpy/core/_asarray.py\u001b[0m in \u001b[0;36masarray\u001b[0;34m(a, dtype, order)\u001b[0m\n\u001b[1;32m     81\u001b[0m \u001b[0;34m\u001b[0m\u001b[0m\n\u001b[1;32m     82\u001b[0m     \"\"\"\n\u001b[0;32m---> 83\u001b[0;31m     \u001b[0;32mreturn\u001b[0m \u001b[0marray\u001b[0m\u001b[0;34m(\u001b[0m\u001b[0ma\u001b[0m\u001b[0;34m,\u001b[0m \u001b[0mdtype\u001b[0m\u001b[0;34m,\u001b[0m \u001b[0mcopy\u001b[0m\u001b[0;34m=\u001b[0m\u001b[0;32mFalse\u001b[0m\u001b[0;34m,\u001b[0m \u001b[0morder\u001b[0m\u001b[0;34m=\u001b[0m\u001b[0morder\u001b[0m\u001b[0;34m)\u001b[0m\u001b[0;34m\u001b[0m\u001b[0;34m\u001b[0m\u001b[0m\n\u001b[0m\u001b[1;32m     84\u001b[0m \u001b[0;34m\u001b[0m\u001b[0m\n\u001b[1;32m     85\u001b[0m \u001b[0;34m\u001b[0m\u001b[0m\n",
            "\u001b[0;31mValueError\u001b[0m: could not convert string to float: 'Shivani vishwas surve'"
          ]
        }
      ]
    },
    {
      "cell_type": "code",
      "metadata": {
        "id": "DuYyGXxRwug4"
      },
      "source": [
        ""
      ],
      "execution_count": null,
      "outputs": []
    }
  ]
}