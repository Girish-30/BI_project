{
  "nbformat": 4,
  "nbformat_minor": 0,
  "metadata": {
    "colab": {
      "name": "Pyth_Project.ipynb",
      "provenance": [],
      "authorship_tag": "ABX9TyNEDW24IajbfUoFUD839A9U",
      "include_colab_link": true
    },
    "kernelspec": {
      "name": "python3",
      "display_name": "Python 3"
    },
    "language_info": {
      "name": "python"
    }
  },
  "cells": [
    {
      "cell_type": "markdown",
      "metadata": {
        "id": "view-in-github",
        "colab_type": "text"
      },
      "source": [
        "<a href=\"https://colab.research.google.com/github/Girish-30/BI_project/blob/main/Pyth_Project.ipynb\" target=\"_parent\"><img src=\"https://colab.research.google.com/assets/colab-badge.svg\" alt=\"Open In Colab\"/></a>"
      ]
    },
    {
      "cell_type": "code",
      "metadata": {
        "id": "8W9F6VOhZcW3"
      },
      "source": [
        "import numpy as np\n",
        "import pandas as pd\n",
        "import matplotlib.pyplot as plt\n",
        "import seaborn as sns"
      ],
      "execution_count": 2,
      "outputs": []
    },
    {
      "cell_type": "code",
      "metadata": {
        "id": "aZVm7OZzeUcF"
      },
      "source": [
        "pd.set_option('display.max_columns', None)\n"
      ],
      "execution_count": 3,
      "outputs": []
    },
    {
      "cell_type": "code",
      "metadata": {
        "id": "_JUZYbJqsKqW"
      },
      "source": [
        "gb1=pd.read_csv('/content/MMA FIGHTERS & GYMS.csv')"
      ],
      "execution_count": 4,
      "outputs": []
    },
    {
      "cell_type": "code",
      "metadata": {
        "id": "AVSwi8N9o4mb"
      },
      "source": [
        "gb1.drop('Timestamp',axis=1, inplace=True)"
      ],
      "execution_count": 9,
      "outputs": []
    },
    {
      "cell_type": "code",
      "metadata": {
        "colab": {
          "base_uri": "https://localhost:8080/",
          "height": 677
        },
        "id": "NsMVNetTsalr",
        "outputId": "14a950b1-eab9-4011-fbc9-9b1798818a83"
      },
      "source": [
        "gb1"
      ],
      "execution_count": 70,
      "outputs": [
        {
          "output_type": "execute_result",
          "data": {
            "text/html": [
              "<div>\n",
              "<style scoped>\n",
              "    .dataframe tbody tr th:only-of-type {\n",
              "        vertical-align: middle;\n",
              "    }\n",
              "\n",
              "    .dataframe tbody tr th {\n",
              "        vertical-align: top;\n",
              "    }\n",
              "\n",
              "    .dataframe thead th {\n",
              "        text-align: right;\n",
              "    }\n",
              "</style>\n",
              "<table border=\"1\" class=\"dataframe\">\n",
              "  <thead>\n",
              "    <tr style=\"text-align: right;\">\n",
              "      <th></th>\n",
              "      <th>Name</th>\n",
              "      <th>Most entertaining</th>\n",
              "      <th>Age</th>\n",
              "      <th>Improve confidence</th>\n",
              "      <th>Physical Toughness</th>\n",
              "      <th>Mental Toughness and Resilience</th>\n",
              "      <th>Aerobic and Anaerobic conditioning</th>\n",
              "      <th>Fitness</th>\n",
              "      <th>Overall Body Coordination and Proprioception</th>\n",
              "      <th>Stress Relief and Improve Sleep</th>\n",
              "      <th>Lose weight</th>\n",
              "    </tr>\n",
              "  </thead>\n",
              "  <tbody>\n",
              "    <tr>\n",
              "      <th>0</th>\n",
              "      <td>chinmay</td>\n",
              "      <td>Kung Fu;Capoeira;Karate;Kalari</td>\n",
              "      <td>Below 18yrs</td>\n",
              "      <td>Yes</td>\n",
              "      <td>Agree</td>\n",
              "      <td>Strongly disagree</td>\n",
              "      <td>True</td>\n",
              "      <td>Yes</td>\n",
              "      <td>Strongly disagree</td>\n",
              "      <td>Strongly disagree</td>\n",
              "      <td>Yes</td>\n",
              "    </tr>\n",
              "    <tr>\n",
              "      <th>1</th>\n",
              "      <td>Simran mahadik</td>\n",
              "      <td>Taekwondo</td>\n",
              "      <td>Above 18yrs</td>\n",
              "      <td>Yes</td>\n",
              "      <td>Agree</td>\n",
              "      <td>Agree</td>\n",
              "      <td>True</td>\n",
              "      <td>Yes</td>\n",
              "      <td>Agree</td>\n",
              "      <td>Agree</td>\n",
              "      <td>Yes</td>\n",
              "    </tr>\n",
              "    <tr>\n",
              "      <th>2</th>\n",
              "      <td>Anuja</td>\n",
              "      <td>Taekwondo;Karate</td>\n",
              "      <td>Below 15yrs</td>\n",
              "      <td>Yes</td>\n",
              "      <td>Agree</td>\n",
              "      <td>Neutral</td>\n",
              "      <td>True</td>\n",
              "      <td>Yes</td>\n",
              "      <td>Agree</td>\n",
              "      <td>Agree</td>\n",
              "      <td>No</td>\n",
              "    </tr>\n",
              "    <tr>\n",
              "      <th>3</th>\n",
              "      <td>Sonali more</td>\n",
              "      <td>Karate</td>\n",
              "      <td>Below 15yrs</td>\n",
              "      <td>Yes</td>\n",
              "      <td>Agree</td>\n",
              "      <td>Agree</td>\n",
              "      <td>True</td>\n",
              "      <td>Yes</td>\n",
              "      <td>Agree</td>\n",
              "      <td>Agree</td>\n",
              "      <td>Yes</td>\n",
              "    </tr>\n",
              "    <tr>\n",
              "      <th>4</th>\n",
              "      <td>Uma Jagkar</td>\n",
              "      <td>Kung Fu;Karate</td>\n",
              "      <td>Below 15yrs</td>\n",
              "      <td>Yes</td>\n",
              "      <td>Agree</td>\n",
              "      <td>Agree</td>\n",
              "      <td>True</td>\n",
              "      <td>Yes</td>\n",
              "      <td>Agree</td>\n",
              "      <td>Agree</td>\n",
              "      <td>Yes</td>\n",
              "    </tr>\n",
              "    <tr>\n",
              "      <th>...</th>\n",
              "      <td>...</td>\n",
              "      <td>...</td>\n",
              "      <td>...</td>\n",
              "      <td>...</td>\n",
              "      <td>...</td>\n",
              "      <td>...</td>\n",
              "      <td>...</td>\n",
              "      <td>...</td>\n",
              "      <td>...</td>\n",
              "      <td>...</td>\n",
              "      <td>...</td>\n",
              "    </tr>\n",
              "    <tr>\n",
              "      <th>249</th>\n",
              "      <td>Saleha Poojary</td>\n",
              "      <td>Kung Fu;Capoeira;Kalari</td>\n",
              "      <td>Below 15yrs</td>\n",
              "      <td>Yes</td>\n",
              "      <td>Disagree</td>\n",
              "      <td>Neutral</td>\n",
              "      <td>True</td>\n",
              "      <td>No</td>\n",
              "      <td>Strongly disagree</td>\n",
              "      <td>Agree</td>\n",
              "      <td>No</td>\n",
              "    </tr>\n",
              "    <tr>\n",
              "      <th>250</th>\n",
              "      <td>Anita sevale</td>\n",
              "      <td>Kung Fu;Capoeira;Muay Thai;Wushu</td>\n",
              "      <td>Below 18yrs</td>\n",
              "      <td>Yes</td>\n",
              "      <td>Disagree</td>\n",
              "      <td>Disagree</td>\n",
              "      <td>True</td>\n",
              "      <td>No</td>\n",
              "      <td>Neutral</td>\n",
              "      <td>Neutral</td>\n",
              "      <td>No</td>\n",
              "    </tr>\n",
              "    <tr>\n",
              "      <th>251</th>\n",
              "      <td>Manisha rokde</td>\n",
              "      <td>Capoeira;Karate;Kalari</td>\n",
              "      <td>Below 18yrs</td>\n",
              "      <td>Yes</td>\n",
              "      <td>Can't Say</td>\n",
              "      <td>Neutral</td>\n",
              "      <td>True</td>\n",
              "      <td>Yes</td>\n",
              "      <td>Agree</td>\n",
              "      <td>Agree</td>\n",
              "      <td>Yes</td>\n",
              "    </tr>\n",
              "    <tr>\n",
              "      <th>252</th>\n",
              "      <td>Sobha selke</td>\n",
              "      <td>Capoeira;Karate;Muay Thai</td>\n",
              "      <td>Below 18yrs</td>\n",
              "      <td>Yes</td>\n",
              "      <td>Disagree</td>\n",
              "      <td>Agree</td>\n",
              "      <td>True</td>\n",
              "      <td>Yes</td>\n",
              "      <td>Agree</td>\n",
              "      <td>Agree</td>\n",
              "      <td>Yes</td>\n",
              "    </tr>\n",
              "    <tr>\n",
              "      <th>253</th>\n",
              "      <td>Mayuri</td>\n",
              "      <td>Karate</td>\n",
              "      <td>Below 12yrs</td>\n",
              "      <td>Yes</td>\n",
              "      <td>Agree</td>\n",
              "      <td>Neutral</td>\n",
              "      <td>False</td>\n",
              "      <td>Yes</td>\n",
              "      <td>Agree</td>\n",
              "      <td>Agree</td>\n",
              "      <td>May be</td>\n",
              "    </tr>\n",
              "  </tbody>\n",
              "</table>\n",
              "<p>254 rows × 11 columns</p>\n",
              "</div>"
            ],
            "text/plain": [
              "               Name                 Most entertaining          Age  \\\n",
              "0           chinmay    Kung Fu;Capoeira;Karate;Kalari  Below 18yrs   \n",
              "1    Simran mahadik                         Taekwondo  Above 18yrs   \n",
              "2             Anuja                  Taekwondo;Karate  Below 15yrs   \n",
              "3      Sonali more                             Karate  Below 15yrs   \n",
              "4       Uma Jagkar                     Kung Fu;Karate  Below 15yrs   \n",
              "..              ...                               ...          ...   \n",
              "249  Saleha Poojary           Kung Fu;Capoeira;Kalari  Below 15yrs   \n",
              "250    Anita sevale  Kung Fu;Capoeira;Muay Thai;Wushu  Below 18yrs   \n",
              "251   Manisha rokde            Capoeira;Karate;Kalari  Below 18yrs   \n",
              "252     Sobha selke         Capoeira;Karate;Muay Thai  Below 18yrs   \n",
              "253          Mayuri                            Karate  Below 12yrs   \n",
              "\n",
              "    Improve confidence Physical Toughness Mental Toughness and Resilience  \\\n",
              "0                  Yes              Agree               Strongly disagree   \n",
              "1                  Yes              Agree                           Agree   \n",
              "2                  Yes              Agree                         Neutral   \n",
              "3                  Yes              Agree                           Agree   \n",
              "4                  Yes              Agree                           Agree   \n",
              "..                 ...                ...                             ...   \n",
              "249                Yes           Disagree                         Neutral   \n",
              "250                Yes           Disagree                        Disagree   \n",
              "251                Yes          Can't Say                         Neutral   \n",
              "252                Yes           Disagree                           Agree   \n",
              "253                Yes              Agree                         Neutral   \n",
              "\n",
              "     Aerobic and Anaerobic conditioning Fitness  \\\n",
              "0                                  True     Yes   \n",
              "1                                  True     Yes   \n",
              "2                                  True     Yes   \n",
              "3                                  True     Yes   \n",
              "4                                  True     Yes   \n",
              "..                                  ...     ...   \n",
              "249                                True      No   \n",
              "250                                True      No   \n",
              "251                                True     Yes   \n",
              "252                                True     Yes   \n",
              "253                               False     Yes   \n",
              "\n",
              "    Overall Body Coordination and Proprioception  \\\n",
              "0                              Strongly disagree   \n",
              "1                                          Agree   \n",
              "2                                          Agree   \n",
              "3                                          Agree   \n",
              "4                                          Agree   \n",
              "..                                           ...   \n",
              "249                            Strongly disagree   \n",
              "250                                      Neutral   \n",
              "251                                        Agree   \n",
              "252                                        Agree   \n",
              "253                                        Agree   \n",
              "\n",
              "    Stress Relief and Improve Sleep Lose weight  \n",
              "0                 Strongly disagree         Yes  \n",
              "1                             Agree         Yes  \n",
              "2                             Agree          No  \n",
              "3                             Agree         Yes  \n",
              "4                             Agree         Yes  \n",
              "..                              ...         ...  \n",
              "249                           Agree          No  \n",
              "250                         Neutral          No  \n",
              "251                           Agree         Yes  \n",
              "252                           Agree         Yes  \n",
              "253                           Agree      May be  \n",
              "\n",
              "[254 rows x 11 columns]"
            ]
          },
          "metadata": {
            "tags": []
          },
          "execution_count": 70
        }
      ]
    },
    {
      "cell_type": "code",
      "metadata": {
        "colab": {
          "base_uri": "https://localhost:8080/",
          "height": 634
        },
        "id": "6PzZeonHwQHe",
        "outputId": "6a741402-ea33-4e76-a341-4d0760a8cfc0"
      },
      "source": [
        "gb1.head(10)"
      ],
      "execution_count": 15,
      "outputs": [
        {
          "output_type": "execute_result",
          "data": {
            "text/html": [
              "<div>\n",
              "<style scoped>\n",
              "    .dataframe tbody tr th:only-of-type {\n",
              "        vertical-align: middle;\n",
              "    }\n",
              "\n",
              "    .dataframe tbody tr th {\n",
              "        vertical-align: top;\n",
              "    }\n",
              "\n",
              "    .dataframe thead th {\n",
              "        text-align: right;\n",
              "    }\n",
              "</style>\n",
              "<table border=\"1\" class=\"dataframe\">\n",
              "  <thead>\n",
              "    <tr style=\"text-align: right;\">\n",
              "      <th></th>\n",
              "      <th>Name</th>\n",
              "      <th>Most entertaining</th>\n",
              "      <th>Age</th>\n",
              "      <th>Improve confidence</th>\n",
              "      <th>Physical Toughness</th>\n",
              "      <th>Mental Toughness and Resilience</th>\n",
              "      <th>Aerobic and Anaerobic conditioning</th>\n",
              "      <th>Fitness</th>\n",
              "      <th>Overall Body Coordination and Proprioception</th>\n",
              "      <th>Stress Relief and Improve Sleep</th>\n",
              "      <th>Lose weight</th>\n",
              "    </tr>\n",
              "  </thead>\n",
              "  <tbody>\n",
              "    <tr>\n",
              "      <th>0</th>\n",
              "      <td>chinmay</td>\n",
              "      <td>Kung Fu;Capoeira;Karate;Kalari</td>\n",
              "      <td>Below 18yrs</td>\n",
              "      <td>Yes</td>\n",
              "      <td>Agree</td>\n",
              "      <td>Strongly disagree</td>\n",
              "      <td>True</td>\n",
              "      <td>Yes</td>\n",
              "      <td>Strongly disagree</td>\n",
              "      <td>Strongly disagree</td>\n",
              "      <td>Yes</td>\n",
              "    </tr>\n",
              "    <tr>\n",
              "      <th>1</th>\n",
              "      <td>Simran mahadik</td>\n",
              "      <td>Taekwondo</td>\n",
              "      <td>Above 18yrs</td>\n",
              "      <td>Yes</td>\n",
              "      <td>Agree</td>\n",
              "      <td>Agree</td>\n",
              "      <td>True</td>\n",
              "      <td>Yes</td>\n",
              "      <td>Agree</td>\n",
              "      <td>Agree</td>\n",
              "      <td>Yes</td>\n",
              "    </tr>\n",
              "    <tr>\n",
              "      <th>2</th>\n",
              "      <td>Anuja</td>\n",
              "      <td>Taekwondo;Karate</td>\n",
              "      <td>Below 15yrs</td>\n",
              "      <td>Yes</td>\n",
              "      <td>Agree</td>\n",
              "      <td>Neutral</td>\n",
              "      <td>True</td>\n",
              "      <td>Yes</td>\n",
              "      <td>Agree</td>\n",
              "      <td>Agree</td>\n",
              "      <td>No</td>\n",
              "    </tr>\n",
              "    <tr>\n",
              "      <th>3</th>\n",
              "      <td>Sonali more</td>\n",
              "      <td>Karate</td>\n",
              "      <td>Below 15yrs</td>\n",
              "      <td>Yes</td>\n",
              "      <td>Agree</td>\n",
              "      <td>Agree</td>\n",
              "      <td>True</td>\n",
              "      <td>Yes</td>\n",
              "      <td>Agree</td>\n",
              "      <td>Agree</td>\n",
              "      <td>Yes</td>\n",
              "    </tr>\n",
              "    <tr>\n",
              "      <th>4</th>\n",
              "      <td>Uma Jagkar</td>\n",
              "      <td>Kung Fu;Karate</td>\n",
              "      <td>Below 15yrs</td>\n",
              "      <td>Yes</td>\n",
              "      <td>Agree</td>\n",
              "      <td>Agree</td>\n",
              "      <td>True</td>\n",
              "      <td>Yes</td>\n",
              "      <td>Agree</td>\n",
              "      <td>Agree</td>\n",
              "      <td>Yes</td>\n",
              "    </tr>\n",
              "    <tr>\n",
              "      <th>5</th>\n",
              "      <td>Neha Chauhan</td>\n",
              "      <td>Kung Fu;Karate;Kalari</td>\n",
              "      <td>Below 12yrs</td>\n",
              "      <td>Yes</td>\n",
              "      <td>Agree</td>\n",
              "      <td>Strongly agree</td>\n",
              "      <td>True</td>\n",
              "      <td>Yes</td>\n",
              "      <td>Strongly Agree</td>\n",
              "      <td>Agree</td>\n",
              "      <td>Yes</td>\n",
              "    </tr>\n",
              "    <tr>\n",
              "      <th>6</th>\n",
              "      <td>Vishal Lanke</td>\n",
              "      <td>Taekwondo</td>\n",
              "      <td>Below 12yrs</td>\n",
              "      <td>Yes</td>\n",
              "      <td>Can't Say</td>\n",
              "      <td>Agree</td>\n",
              "      <td>True</td>\n",
              "      <td>Maybe</td>\n",
              "      <td>Neutral</td>\n",
              "      <td>Agree</td>\n",
              "      <td>Yes</td>\n",
              "    </tr>\n",
              "    <tr>\n",
              "      <th>7</th>\n",
              "      <td>Manisha Bisht</td>\n",
              "      <td>Taekwondo;Kung Fu;Capoeira;Karate;Kalari;Muay ...</td>\n",
              "      <td>Below 12yrs</td>\n",
              "      <td>Yes</td>\n",
              "      <td>Disagree</td>\n",
              "      <td>Strongly disagree</td>\n",
              "      <td>False</td>\n",
              "      <td>No</td>\n",
              "      <td>Strongly disagree</td>\n",
              "      <td>Strongly disagree</td>\n",
              "      <td>No</td>\n",
              "    </tr>\n",
              "    <tr>\n",
              "      <th>8</th>\n",
              "      <td>Shubham Gawade</td>\n",
              "      <td>Karate</td>\n",
              "      <td>Below 15yrs</td>\n",
              "      <td>Yes</td>\n",
              "      <td>Agree</td>\n",
              "      <td>Agree</td>\n",
              "      <td>True</td>\n",
              "      <td>Yes</td>\n",
              "      <td>Agree</td>\n",
              "      <td>Agree</td>\n",
              "      <td>Yes</td>\n",
              "    </tr>\n",
              "    <tr>\n",
              "      <th>9</th>\n",
              "      <td>Rahul kumar</td>\n",
              "      <td>Taekwondo</td>\n",
              "      <td>Below 12yrs</td>\n",
              "      <td>Yes</td>\n",
              "      <td>Agree</td>\n",
              "      <td>Strongly disagree</td>\n",
              "      <td>True</td>\n",
              "      <td>Yes</td>\n",
              "      <td>Strongly disagree</td>\n",
              "      <td>Strongly disagree</td>\n",
              "      <td>Yes</td>\n",
              "    </tr>\n",
              "  </tbody>\n",
              "</table>\n",
              "</div>"
            ],
            "text/plain": [
              "             Name                                  Most entertaining  \\\n",
              "0         chinmay                     Kung Fu;Capoeira;Karate;Kalari   \n",
              "1  Simran mahadik                                          Taekwondo   \n",
              "2           Anuja                                   Taekwondo;Karate   \n",
              "3    Sonali more                                              Karate   \n",
              "4     Uma Jagkar                                      Kung Fu;Karate   \n",
              "5    Neha Chauhan                              Kung Fu;Karate;Kalari   \n",
              "6    Vishal Lanke                                          Taekwondo   \n",
              "7   Manisha Bisht  Taekwondo;Kung Fu;Capoeira;Karate;Kalari;Muay ...   \n",
              "8  Shubham Gawade                                             Karate   \n",
              "9     Rahul kumar                                          Taekwondo   \n",
              "\n",
              "           Age Improve confidence Physical Toughness  \\\n",
              "0  Below 18yrs                Yes              Agree   \n",
              "1  Above 18yrs                Yes              Agree   \n",
              "2  Below 15yrs                Yes              Agree   \n",
              "3  Below 15yrs                Yes              Agree   \n",
              "4  Below 15yrs                Yes              Agree   \n",
              "5  Below 12yrs                Yes              Agree   \n",
              "6  Below 12yrs                Yes          Can't Say   \n",
              "7  Below 12yrs                Yes           Disagree   \n",
              "8  Below 15yrs                Yes              Agree   \n",
              "9  Below 12yrs                Yes              Agree   \n",
              "\n",
              "  Mental Toughness and Resilience  Aerobic and Anaerobic conditioning Fitness  \\\n",
              "0               Strongly disagree                                True     Yes   \n",
              "1                           Agree                                True     Yes   \n",
              "2                         Neutral                                True     Yes   \n",
              "3                           Agree                                True     Yes   \n",
              "4                           Agree                                True     Yes   \n",
              "5                  Strongly agree                                True     Yes   \n",
              "6                           Agree                                True   Maybe   \n",
              "7               Strongly disagree                               False      No   \n",
              "8                           Agree                                True     Yes   \n",
              "9               Strongly disagree                                True     Yes   \n",
              "\n",
              "  Overall Body Coordination and Proprioception  \\\n",
              "0                            Strongly disagree   \n",
              "1                                        Agree   \n",
              "2                                        Agree   \n",
              "3                                        Agree   \n",
              "4                                        Agree   \n",
              "5                               Strongly Agree   \n",
              "6                                      Neutral   \n",
              "7                            Strongly disagree   \n",
              "8                                        Agree   \n",
              "9                            Strongly disagree   \n",
              "\n",
              "  Stress Relief and Improve Sleep Lose weight  \n",
              "0               Strongly disagree         Yes  \n",
              "1                           Agree         Yes  \n",
              "2                           Agree          No  \n",
              "3                           Agree         Yes  \n",
              "4                           Agree         Yes  \n",
              "5                           Agree         Yes  \n",
              "6                           Agree         Yes  \n",
              "7               Strongly disagree          No  \n",
              "8                           Agree         Yes  \n",
              "9               Strongly disagree         Yes  "
            ]
          },
          "metadata": {
            "tags": []
          },
          "execution_count": 15
        }
      ]
    },
    {
      "cell_type": "code",
      "metadata": {
        "colab": {
          "base_uri": "https://localhost:8080/",
          "height": 634
        },
        "id": "27y9wJywHHar",
        "outputId": "1c448714-8554-450a-d9ce-b3262c960c5c"
      },
      "source": [
        "gb1.tail(10)"
      ],
      "execution_count": 72,
      "outputs": [
        {
          "output_type": "execute_result",
          "data": {
            "text/html": [
              "<div>\n",
              "<style scoped>\n",
              "    .dataframe tbody tr th:only-of-type {\n",
              "        vertical-align: middle;\n",
              "    }\n",
              "\n",
              "    .dataframe tbody tr th {\n",
              "        vertical-align: top;\n",
              "    }\n",
              "\n",
              "    .dataframe thead th {\n",
              "        text-align: right;\n",
              "    }\n",
              "</style>\n",
              "<table border=\"1\" class=\"dataframe\">\n",
              "  <thead>\n",
              "    <tr style=\"text-align: right;\">\n",
              "      <th></th>\n",
              "      <th>Name</th>\n",
              "      <th>Most entertaining</th>\n",
              "      <th>Age</th>\n",
              "      <th>Improve confidence</th>\n",
              "      <th>Physical Toughness</th>\n",
              "      <th>Mental Toughness and Resilience</th>\n",
              "      <th>Aerobic and Anaerobic conditioning</th>\n",
              "      <th>Fitness</th>\n",
              "      <th>Overall Body Coordination and Proprioception</th>\n",
              "      <th>Stress Relief and Improve Sleep</th>\n",
              "      <th>Lose weight</th>\n",
              "    </tr>\n",
              "  </thead>\n",
              "  <tbody>\n",
              "    <tr>\n",
              "      <th>244</th>\n",
              "      <td>Sandya kulal</td>\n",
              "      <td>Taekwondo;Capoeira;Karate</td>\n",
              "      <td>Below 18yrs</td>\n",
              "      <td>Yes</td>\n",
              "      <td>Disagree</td>\n",
              "      <td>Neutral</td>\n",
              "      <td>True</td>\n",
              "      <td>No</td>\n",
              "      <td>Neutral</td>\n",
              "      <td>Neutral</td>\n",
              "      <td>No</td>\n",
              "    </tr>\n",
              "    <tr>\n",
              "      <th>245</th>\n",
              "      <td>Rajalaxmi .m.</td>\n",
              "      <td>Kung Fu;Karate;Muay Thai</td>\n",
              "      <td>Below 15yrs</td>\n",
              "      <td>Yes</td>\n",
              "      <td>Agree</td>\n",
              "      <td>Disagree</td>\n",
              "      <td>True</td>\n",
              "      <td>No</td>\n",
              "      <td>Agree</td>\n",
              "      <td>Agree</td>\n",
              "      <td>No</td>\n",
              "    </tr>\n",
              "    <tr>\n",
              "      <th>246</th>\n",
              "      <td>Nalini kulal</td>\n",
              "      <td>Kung Fu;Karate;Kalari</td>\n",
              "      <td>Below 15yrs</td>\n",
              "      <td>Yes</td>\n",
              "      <td>Disagree</td>\n",
              "      <td>Neutral</td>\n",
              "      <td>True</td>\n",
              "      <td>Yes</td>\n",
              "      <td>Agree</td>\n",
              "      <td>Neutral</td>\n",
              "      <td>Yes</td>\n",
              "    </tr>\n",
              "    <tr>\n",
              "      <th>247</th>\n",
              "      <td>Pratiksha kulal</td>\n",
              "      <td>Kung Fu;Capoeira;Karate;Muay Thai</td>\n",
              "      <td>Below 12yrs</td>\n",
              "      <td>Yes</td>\n",
              "      <td>Agree</td>\n",
              "      <td>Agree</td>\n",
              "      <td>True</td>\n",
              "      <td>Yes</td>\n",
              "      <td>Neutral</td>\n",
              "      <td>Neutral</td>\n",
              "      <td>Yes</td>\n",
              "    </tr>\n",
              "    <tr>\n",
              "      <th>248</th>\n",
              "      <td>Ranjana redekar</td>\n",
              "      <td>Kung Fu;Capoeira;Karate</td>\n",
              "      <td>Below 15yrs</td>\n",
              "      <td>Yes</td>\n",
              "      <td>Disagree</td>\n",
              "      <td>Neutral</td>\n",
              "      <td>True</td>\n",
              "      <td>No</td>\n",
              "      <td>Agree</td>\n",
              "      <td>Agree</td>\n",
              "      <td>Yes</td>\n",
              "    </tr>\n",
              "    <tr>\n",
              "      <th>249</th>\n",
              "      <td>Saleha Poojary</td>\n",
              "      <td>Kung Fu;Capoeira;Kalari</td>\n",
              "      <td>Below 15yrs</td>\n",
              "      <td>Yes</td>\n",
              "      <td>Disagree</td>\n",
              "      <td>Neutral</td>\n",
              "      <td>True</td>\n",
              "      <td>No</td>\n",
              "      <td>Strongly disagree</td>\n",
              "      <td>Agree</td>\n",
              "      <td>No</td>\n",
              "    </tr>\n",
              "    <tr>\n",
              "      <th>250</th>\n",
              "      <td>Anita sevale</td>\n",
              "      <td>Kung Fu;Capoeira;Muay Thai;Wushu</td>\n",
              "      <td>Below 18yrs</td>\n",
              "      <td>Yes</td>\n",
              "      <td>Disagree</td>\n",
              "      <td>Disagree</td>\n",
              "      <td>True</td>\n",
              "      <td>No</td>\n",
              "      <td>Neutral</td>\n",
              "      <td>Neutral</td>\n",
              "      <td>No</td>\n",
              "    </tr>\n",
              "    <tr>\n",
              "      <th>251</th>\n",
              "      <td>Manisha rokde</td>\n",
              "      <td>Capoeira;Karate;Kalari</td>\n",
              "      <td>Below 18yrs</td>\n",
              "      <td>Yes</td>\n",
              "      <td>Can't Say</td>\n",
              "      <td>Neutral</td>\n",
              "      <td>True</td>\n",
              "      <td>Yes</td>\n",
              "      <td>Agree</td>\n",
              "      <td>Agree</td>\n",
              "      <td>Yes</td>\n",
              "    </tr>\n",
              "    <tr>\n",
              "      <th>252</th>\n",
              "      <td>Sobha selke</td>\n",
              "      <td>Capoeira;Karate;Muay Thai</td>\n",
              "      <td>Below 18yrs</td>\n",
              "      <td>Yes</td>\n",
              "      <td>Disagree</td>\n",
              "      <td>Agree</td>\n",
              "      <td>True</td>\n",
              "      <td>Yes</td>\n",
              "      <td>Agree</td>\n",
              "      <td>Agree</td>\n",
              "      <td>Yes</td>\n",
              "    </tr>\n",
              "    <tr>\n",
              "      <th>253</th>\n",
              "      <td>Mayuri</td>\n",
              "      <td>Karate</td>\n",
              "      <td>Below 12yrs</td>\n",
              "      <td>Yes</td>\n",
              "      <td>Agree</td>\n",
              "      <td>Neutral</td>\n",
              "      <td>False</td>\n",
              "      <td>Yes</td>\n",
              "      <td>Agree</td>\n",
              "      <td>Agree</td>\n",
              "      <td>May be</td>\n",
              "    </tr>\n",
              "  </tbody>\n",
              "</table>\n",
              "</div>"
            ],
            "text/plain": [
              "                Name                  Most entertaining          Age  \\\n",
              "244     Sandya kulal          Taekwondo;Capoeira;Karate  Below 18yrs   \n",
              "245    Rajalaxmi .m.           Kung Fu;Karate;Muay Thai  Below 15yrs   \n",
              "246     Nalini kulal              Kung Fu;Karate;Kalari  Below 15yrs   \n",
              "247  Pratiksha kulal  Kung Fu;Capoeira;Karate;Muay Thai  Below 12yrs   \n",
              "248  Ranjana redekar            Kung Fu;Capoeira;Karate  Below 15yrs   \n",
              "249   Saleha Poojary            Kung Fu;Capoeira;Kalari  Below 15yrs   \n",
              "250     Anita sevale   Kung Fu;Capoeira;Muay Thai;Wushu  Below 18yrs   \n",
              "251    Manisha rokde             Capoeira;Karate;Kalari  Below 18yrs   \n",
              "252      Sobha selke          Capoeira;Karate;Muay Thai  Below 18yrs   \n",
              "253           Mayuri                             Karate  Below 12yrs   \n",
              "\n",
              "    Improve confidence Physical Toughness Mental Toughness and Resilience  \\\n",
              "244                Yes           Disagree                         Neutral   \n",
              "245                Yes              Agree                        Disagree   \n",
              "246                Yes           Disagree                         Neutral   \n",
              "247                Yes              Agree                           Agree   \n",
              "248                Yes           Disagree                         Neutral   \n",
              "249                Yes           Disagree                         Neutral   \n",
              "250                Yes           Disagree                        Disagree   \n",
              "251                Yes          Can't Say                         Neutral   \n",
              "252                Yes           Disagree                           Agree   \n",
              "253                Yes              Agree                         Neutral   \n",
              "\n",
              "     Aerobic and Anaerobic conditioning Fitness  \\\n",
              "244                                True      No   \n",
              "245                                True      No   \n",
              "246                                True     Yes   \n",
              "247                                True     Yes   \n",
              "248                                True      No   \n",
              "249                                True      No   \n",
              "250                                True      No   \n",
              "251                                True     Yes   \n",
              "252                                True     Yes   \n",
              "253                               False     Yes   \n",
              "\n",
              "    Overall Body Coordination and Proprioception  \\\n",
              "244                                      Neutral   \n",
              "245                                        Agree   \n",
              "246                                        Agree   \n",
              "247                                      Neutral   \n",
              "248                                        Agree   \n",
              "249                            Strongly disagree   \n",
              "250                                      Neutral   \n",
              "251                                        Agree   \n",
              "252                                        Agree   \n",
              "253                                        Agree   \n",
              "\n",
              "    Stress Relief and Improve Sleep Lose weight  \n",
              "244                         Neutral          No  \n",
              "245                           Agree          No  \n",
              "246                         Neutral         Yes  \n",
              "247                         Neutral         Yes  \n",
              "248                           Agree         Yes  \n",
              "249                           Agree          No  \n",
              "250                         Neutral          No  \n",
              "251                           Agree         Yes  \n",
              "252                           Agree         Yes  \n",
              "253                           Agree      May be  "
            ]
          },
          "metadata": {
            "tags": []
          },
          "execution_count": 72
        }
      ]
    },
    {
      "cell_type": "code",
      "metadata": {
        "colab": {
          "base_uri": "https://localhost:8080/"
        },
        "id": "jFGUv1ZaHb6J",
        "outputId": "a582cc2a-4913-441c-909b-a094833e02d0"
      },
      "source": [
        "gb1.columns"
      ],
      "execution_count": 74,
      "outputs": [
        {
          "output_type": "execute_result",
          "data": {
            "text/plain": [
              "Index(['Name', 'Most entertaining', 'Age', 'Improve confidence',\n",
              "       'Physical Toughness', 'Mental Toughness and Resilience',\n",
              "       'Aerobic and Anaerobic conditioning', 'Fitness',\n",
              "       'Overall Body Coordination and Proprioception',\n",
              "       'Stress Relief and Improve Sleep', 'Lose weight'],\n",
              "      dtype='object')"
            ]
          },
          "metadata": {
            "tags": []
          },
          "execution_count": 74
        }
      ]
    },
    {
      "cell_type": "code",
      "metadata": {
        "id": "66K_cnNQfnp-",
        "colab": {
          "base_uri": "https://localhost:8080/"
        },
        "outputId": "20a03abf-3371-4831-e7be-96069deb8624"
      },
      "source": [
        "gb1.info()"
      ],
      "execution_count": 73,
      "outputs": [
        {
          "output_type": "stream",
          "text": [
            "<class 'pandas.core.frame.DataFrame'>\n",
            "RangeIndex: 254 entries, 0 to 253\n",
            "Data columns (total 11 columns):\n",
            " #   Column                                        Non-Null Count  Dtype \n",
            "---  ------                                        --------------  ----- \n",
            " 0   Name                                          254 non-null    object\n",
            " 1   Most entertaining                             254 non-null    object\n",
            " 2   Age                                           254 non-null    object\n",
            " 3   Improve confidence                            254 non-null    object\n",
            " 4   Physical Toughness                            254 non-null    object\n",
            " 5   Mental Toughness and Resilience               254 non-null    object\n",
            " 6   Aerobic and Anaerobic conditioning            254 non-null    bool  \n",
            " 7   Fitness                                       254 non-null    object\n",
            " 8   Overall Body Coordination and Proprioception  254 non-null    object\n",
            " 9   Stress Relief and Improve Sleep               254 non-null    object\n",
            " 10  Lose weight                                   254 non-null    object\n",
            "dtypes: bool(1), object(10)\n",
            "memory usage: 20.2+ KB\n"
          ],
          "name": "stdout"
        }
      ]
    },
    {
      "cell_type": "code",
      "metadata": {
        "colab": {
          "base_uri": "https://localhost:8080/",
          "height": 278
        },
        "id": "IJRx4owfH9Kb",
        "outputId": "f7b7c12c-be80-4262-c55c-8852ee630369"
      },
      "source": [
        "gb1.describe()"
      ],
      "execution_count": 78,
      "outputs": [
        {
          "output_type": "execute_result",
          "data": {
            "text/html": [
              "<div>\n",
              "<style scoped>\n",
              "    .dataframe tbody tr th:only-of-type {\n",
              "        vertical-align: middle;\n",
              "    }\n",
              "\n",
              "    .dataframe tbody tr th {\n",
              "        vertical-align: top;\n",
              "    }\n",
              "\n",
              "    .dataframe thead th {\n",
              "        text-align: right;\n",
              "    }\n",
              "</style>\n",
              "<table border=\"1\" class=\"dataframe\">\n",
              "  <thead>\n",
              "    <tr style=\"text-align: right;\">\n",
              "      <th></th>\n",
              "      <th>Name</th>\n",
              "      <th>Most entertaining</th>\n",
              "      <th>Age</th>\n",
              "      <th>Improve confidence</th>\n",
              "      <th>Physical Toughness</th>\n",
              "      <th>Mental Toughness and Resilience</th>\n",
              "      <th>Aerobic and Anaerobic conditioning</th>\n",
              "      <th>Fitness</th>\n",
              "      <th>Overall Body Coordination and Proprioception</th>\n",
              "      <th>Stress Relief and Improve Sleep</th>\n",
              "      <th>Lose weight</th>\n",
              "    </tr>\n",
              "  </thead>\n",
              "  <tbody>\n",
              "    <tr>\n",
              "      <th>count</th>\n",
              "      <td>254</td>\n",
              "      <td>254</td>\n",
              "      <td>254</td>\n",
              "      <td>254</td>\n",
              "      <td>254</td>\n",
              "      <td>254</td>\n",
              "      <td>254</td>\n",
              "      <td>254</td>\n",
              "      <td>254</td>\n",
              "      <td>254</td>\n",
              "      <td>254</td>\n",
              "    </tr>\n",
              "    <tr>\n",
              "      <th>unique</th>\n",
              "      <td>245</td>\n",
              "      <td>76</td>\n",
              "      <td>4</td>\n",
              "      <td>2</td>\n",
              "      <td>3</td>\n",
              "      <td>5</td>\n",
              "      <td>2</td>\n",
              "      <td>3</td>\n",
              "      <td>5</td>\n",
              "      <td>5</td>\n",
              "      <td>3</td>\n",
              "    </tr>\n",
              "    <tr>\n",
              "      <th>top</th>\n",
              "      <td>Pravin</td>\n",
              "      <td>Karate</td>\n",
              "      <td>Below 15yrs</td>\n",
              "      <td>Yes</td>\n",
              "      <td>Agree</td>\n",
              "      <td>Neutral</td>\n",
              "      <td>True</td>\n",
              "      <td>Yes</td>\n",
              "      <td>Agree</td>\n",
              "      <td>Neutral</td>\n",
              "      <td>Yes</td>\n",
              "    </tr>\n",
              "    <tr>\n",
              "      <th>freq</th>\n",
              "      <td>3</td>\n",
              "      <td>30</td>\n",
              "      <td>89</td>\n",
              "      <td>226</td>\n",
              "      <td>165</td>\n",
              "      <td>81</td>\n",
              "      <td>216</td>\n",
              "      <td>153</td>\n",
              "      <td>102</td>\n",
              "      <td>88</td>\n",
              "      <td>173</td>\n",
              "    </tr>\n",
              "  </tbody>\n",
              "</table>\n",
              "</div>"
            ],
            "text/plain": [
              "          Name Most entertaining          Age Improve confidence  \\\n",
              "count      254               254          254                254   \n",
              "unique     245                76            4                  2   \n",
              "top     Pravin            Karate  Below 15yrs                Yes   \n",
              "freq         3                30           89                226   \n",
              "\n",
              "       Physical Toughness Mental Toughness and Resilience  \\\n",
              "count                 254                             254   \n",
              "unique                  3                               5   \n",
              "top                 Agree                         Neutral   \n",
              "freq                  165                              81   \n",
              "\n",
              "       Aerobic and Anaerobic conditioning Fitness  \\\n",
              "count                                 254     254   \n",
              "unique                                  2       3   \n",
              "top                                  True     Yes   \n",
              "freq                                  216     153   \n",
              "\n",
              "       Overall Body Coordination and Proprioception  \\\n",
              "count                                           254   \n",
              "unique                                            5   \n",
              "top                                           Agree   \n",
              "freq                                            102   \n",
              "\n",
              "       Stress Relief and Improve Sleep Lose weight  \n",
              "count                              254         254  \n",
              "unique                               5           3  \n",
              "top                            Neutral         Yes  \n",
              "freq                                88         173  "
            ]
          },
          "metadata": {
            "tags": []
          },
          "execution_count": 78
        }
      ]
    },
    {
      "cell_type": "code",
      "metadata": {
        "colab": {
          "base_uri": "https://localhost:8080/",
          "height": 487
        },
        "id": "0Nr3Rv8kgDEI",
        "outputId": "fee919cf-1a88-429e-a8b0-ea13faf7f644"
      },
      "source": [
        "gb1.isnull()"
      ],
      "execution_count": 76,
      "outputs": [
        {
          "output_type": "execute_result",
          "data": {
            "text/html": [
              "<div>\n",
              "<style scoped>\n",
              "    .dataframe tbody tr th:only-of-type {\n",
              "        vertical-align: middle;\n",
              "    }\n",
              "\n",
              "    .dataframe tbody tr th {\n",
              "        vertical-align: top;\n",
              "    }\n",
              "\n",
              "    .dataframe thead th {\n",
              "        text-align: right;\n",
              "    }\n",
              "</style>\n",
              "<table border=\"1\" class=\"dataframe\">\n",
              "  <thead>\n",
              "    <tr style=\"text-align: right;\">\n",
              "      <th></th>\n",
              "      <th>Name</th>\n",
              "      <th>Most entertaining</th>\n",
              "      <th>Age</th>\n",
              "      <th>Improve confidence</th>\n",
              "      <th>Physical Toughness</th>\n",
              "      <th>Mental Toughness and Resilience</th>\n",
              "      <th>Aerobic and Anaerobic conditioning</th>\n",
              "      <th>Fitness</th>\n",
              "      <th>Overall Body Coordination and Proprioception</th>\n",
              "      <th>Stress Relief and Improve Sleep</th>\n",
              "      <th>Lose weight</th>\n",
              "    </tr>\n",
              "  </thead>\n",
              "  <tbody>\n",
              "    <tr>\n",
              "      <th>0</th>\n",
              "      <td>False</td>\n",
              "      <td>False</td>\n",
              "      <td>False</td>\n",
              "      <td>False</td>\n",
              "      <td>False</td>\n",
              "      <td>False</td>\n",
              "      <td>False</td>\n",
              "      <td>False</td>\n",
              "      <td>False</td>\n",
              "      <td>False</td>\n",
              "      <td>False</td>\n",
              "    </tr>\n",
              "    <tr>\n",
              "      <th>1</th>\n",
              "      <td>False</td>\n",
              "      <td>False</td>\n",
              "      <td>False</td>\n",
              "      <td>False</td>\n",
              "      <td>False</td>\n",
              "      <td>False</td>\n",
              "      <td>False</td>\n",
              "      <td>False</td>\n",
              "      <td>False</td>\n",
              "      <td>False</td>\n",
              "      <td>False</td>\n",
              "    </tr>\n",
              "    <tr>\n",
              "      <th>2</th>\n",
              "      <td>False</td>\n",
              "      <td>False</td>\n",
              "      <td>False</td>\n",
              "      <td>False</td>\n",
              "      <td>False</td>\n",
              "      <td>False</td>\n",
              "      <td>False</td>\n",
              "      <td>False</td>\n",
              "      <td>False</td>\n",
              "      <td>False</td>\n",
              "      <td>False</td>\n",
              "    </tr>\n",
              "    <tr>\n",
              "      <th>3</th>\n",
              "      <td>False</td>\n",
              "      <td>False</td>\n",
              "      <td>False</td>\n",
              "      <td>False</td>\n",
              "      <td>False</td>\n",
              "      <td>False</td>\n",
              "      <td>False</td>\n",
              "      <td>False</td>\n",
              "      <td>False</td>\n",
              "      <td>False</td>\n",
              "      <td>False</td>\n",
              "    </tr>\n",
              "    <tr>\n",
              "      <th>4</th>\n",
              "      <td>False</td>\n",
              "      <td>False</td>\n",
              "      <td>False</td>\n",
              "      <td>False</td>\n",
              "      <td>False</td>\n",
              "      <td>False</td>\n",
              "      <td>False</td>\n",
              "      <td>False</td>\n",
              "      <td>False</td>\n",
              "      <td>False</td>\n",
              "      <td>False</td>\n",
              "    </tr>\n",
              "    <tr>\n",
              "      <th>...</th>\n",
              "      <td>...</td>\n",
              "      <td>...</td>\n",
              "      <td>...</td>\n",
              "      <td>...</td>\n",
              "      <td>...</td>\n",
              "      <td>...</td>\n",
              "      <td>...</td>\n",
              "      <td>...</td>\n",
              "      <td>...</td>\n",
              "      <td>...</td>\n",
              "      <td>...</td>\n",
              "    </tr>\n",
              "    <tr>\n",
              "      <th>249</th>\n",
              "      <td>False</td>\n",
              "      <td>False</td>\n",
              "      <td>False</td>\n",
              "      <td>False</td>\n",
              "      <td>False</td>\n",
              "      <td>False</td>\n",
              "      <td>False</td>\n",
              "      <td>False</td>\n",
              "      <td>False</td>\n",
              "      <td>False</td>\n",
              "      <td>False</td>\n",
              "    </tr>\n",
              "    <tr>\n",
              "      <th>250</th>\n",
              "      <td>False</td>\n",
              "      <td>False</td>\n",
              "      <td>False</td>\n",
              "      <td>False</td>\n",
              "      <td>False</td>\n",
              "      <td>False</td>\n",
              "      <td>False</td>\n",
              "      <td>False</td>\n",
              "      <td>False</td>\n",
              "      <td>False</td>\n",
              "      <td>False</td>\n",
              "    </tr>\n",
              "    <tr>\n",
              "      <th>251</th>\n",
              "      <td>False</td>\n",
              "      <td>False</td>\n",
              "      <td>False</td>\n",
              "      <td>False</td>\n",
              "      <td>False</td>\n",
              "      <td>False</td>\n",
              "      <td>False</td>\n",
              "      <td>False</td>\n",
              "      <td>False</td>\n",
              "      <td>False</td>\n",
              "      <td>False</td>\n",
              "    </tr>\n",
              "    <tr>\n",
              "      <th>252</th>\n",
              "      <td>False</td>\n",
              "      <td>False</td>\n",
              "      <td>False</td>\n",
              "      <td>False</td>\n",
              "      <td>False</td>\n",
              "      <td>False</td>\n",
              "      <td>False</td>\n",
              "      <td>False</td>\n",
              "      <td>False</td>\n",
              "      <td>False</td>\n",
              "      <td>False</td>\n",
              "    </tr>\n",
              "    <tr>\n",
              "      <th>253</th>\n",
              "      <td>False</td>\n",
              "      <td>False</td>\n",
              "      <td>False</td>\n",
              "      <td>False</td>\n",
              "      <td>False</td>\n",
              "      <td>False</td>\n",
              "      <td>False</td>\n",
              "      <td>False</td>\n",
              "      <td>False</td>\n",
              "      <td>False</td>\n",
              "      <td>False</td>\n",
              "    </tr>\n",
              "  </tbody>\n",
              "</table>\n",
              "<p>254 rows × 11 columns</p>\n",
              "</div>"
            ],
            "text/plain": [
              "      Name  Most entertaining    Age  Improve confidence  Physical Toughness  \\\n",
              "0    False              False  False               False               False   \n",
              "1    False              False  False               False               False   \n",
              "2    False              False  False               False               False   \n",
              "3    False              False  False               False               False   \n",
              "4    False              False  False               False               False   \n",
              "..     ...                ...    ...                 ...                 ...   \n",
              "249  False              False  False               False               False   \n",
              "250  False              False  False               False               False   \n",
              "251  False              False  False               False               False   \n",
              "252  False              False  False               False               False   \n",
              "253  False              False  False               False               False   \n",
              "\n",
              "     Mental Toughness and Resilience  Aerobic and Anaerobic conditioning  \\\n",
              "0                              False                               False   \n",
              "1                              False                               False   \n",
              "2                              False                               False   \n",
              "3                              False                               False   \n",
              "4                              False                               False   \n",
              "..                               ...                                 ...   \n",
              "249                            False                               False   \n",
              "250                            False                               False   \n",
              "251                            False                               False   \n",
              "252                            False                               False   \n",
              "253                            False                               False   \n",
              "\n",
              "     Fitness  Overall Body Coordination and Proprioception  \\\n",
              "0      False                                         False   \n",
              "1      False                                         False   \n",
              "2      False                                         False   \n",
              "3      False                                         False   \n",
              "4      False                                         False   \n",
              "..       ...                                           ...   \n",
              "249    False                                         False   \n",
              "250    False                                         False   \n",
              "251    False                                         False   \n",
              "252    False                                         False   \n",
              "253    False                                         False   \n",
              "\n",
              "     Stress Relief and Improve Sleep  Lose weight  \n",
              "0                              False        False  \n",
              "1                              False        False  \n",
              "2                              False        False  \n",
              "3                              False        False  \n",
              "4                              False        False  \n",
              "..                               ...          ...  \n",
              "249                            False        False  \n",
              "250                            False        False  \n",
              "251                            False        False  \n",
              "252                            False        False  \n",
              "253                            False        False  \n",
              "\n",
              "[254 rows x 11 columns]"
            ]
          },
          "metadata": {
            "tags": []
          },
          "execution_count": 76
        }
      ]
    },
    {
      "cell_type": "code",
      "metadata": {
        "colab": {
          "base_uri": "https://localhost:8080/"
        },
        "id": "tLqOHn4AHyWr",
        "outputId": "ed005439-ff57-4813-bb0a-d0c9761a893f"
      },
      "source": [
        "gb1.isnull().sum()"
      ],
      "execution_count": 77,
      "outputs": [
        {
          "output_type": "execute_result",
          "data": {
            "text/plain": [
              "Name                                            0\n",
              "Most entertaining                               0\n",
              "Age                                             0\n",
              "Improve confidence                              0\n",
              "Physical Toughness                              0\n",
              "Mental Toughness and Resilience                 0\n",
              "Aerobic and Anaerobic conditioning              0\n",
              "Fitness                                         0\n",
              "Overall Body Coordination and Proprioception    0\n",
              "Stress Relief and Improve Sleep                 0\n",
              "Lose weight                                     0\n",
              "dtype: int64"
            ]
          },
          "metadata": {
            "tags": []
          },
          "execution_count": 77
        }
      ]
    },
    {
      "cell_type": "code",
      "metadata": {
        "colab": {
          "base_uri": "https://localhost:8080/"
        },
        "id": "4RrzHwLrGOcR",
        "outputId": "d6482f60-0cc0-4b57-9eeb-e60d0c8142f7"
      },
      "source": [
        "#gb1.dropna(inplace=True)"
      ],
      "execution_count": 69,
      "outputs": [
        {
          "output_type": "stream",
          "text": [
            "<class 'pandas.core.frame.DataFrame'>\n",
            "RangeIndex: 254 entries, 0 to 253\n",
            "Data columns (total 11 columns):\n",
            " #   Column                                        Non-Null Count  Dtype \n",
            "---  ------                                        --------------  ----- \n",
            " 0   Name                                          254 non-null    object\n",
            " 1   Most entertaining                             254 non-null    object\n",
            " 2   Age                                           254 non-null    object\n",
            " 3   Improve confidence                            254 non-null    object\n",
            " 4   Physical Toughness                            254 non-null    object\n",
            " 5   Mental Toughness and Resilience               254 non-null    object\n",
            " 6   Aerobic and Anaerobic conditioning            254 non-null    bool  \n",
            " 7   Fitness                                       254 non-null    object\n",
            " 8   Overall Body Coordination and Proprioception  254 non-null    object\n",
            " 9   Stress Relief and Improve Sleep               254 non-null    object\n",
            " 10  Lose weight                                   254 non-null    object\n",
            "dtypes: bool(1), object(10)\n",
            "memory usage: 20.2+ KB\n"
          ],
          "name": "stdout"
        }
      ]
    },
    {
      "cell_type": "code",
      "metadata": {
        "colab": {
          "base_uri": "https://localhost:8080/"
        },
        "id": "1KhE3B6fnlPZ",
        "outputId": "132f3dec-6283-407a-f9f4-d5c5e7c20e60"
      },
      "source": [
        "gb1.shape"
      ],
      "execution_count": 17,
      "outputs": [
        {
          "output_type": "execute_result",
          "data": {
            "text/plain": [
              "(254, 11)"
            ]
          },
          "metadata": {
            "tags": []
          },
          "execution_count": 17
        }
      ]
    },
    {
      "cell_type": "markdown",
      "metadata": {
        "id": "j7VHkebrA79k"
      },
      "source": [
        "CountPlot Graph"
      ]
    },
    {
      "cell_type": "code",
      "metadata": {
        "colab": {
          "base_uri": "https://localhost:8080/"
        },
        "id": "cbRoPKAkJRb9",
        "outputId": "b3a3de5f-d6a6-4339-c055-ce9f470cd3c2"
      },
      "source": [
        "gb1['Lose weight'].value_counts(ascending=True)"
      ],
      "execution_count": 81,
      "outputs": [
        {
          "output_type": "execute_result",
          "data": {
            "text/plain": [
              "May be     32\n",
              "No         49\n",
              "Yes       173\n",
              "Name: Lose weight, dtype: int64"
            ]
          },
          "metadata": {
            "tags": []
          },
          "execution_count": 81
        }
      ]
    },
    {
      "cell_type": "code",
      "metadata": {
        "colab": {
          "base_uri": "https://localhost:8080/",
          "height": 295
        },
        "id": "oeWZFhFg13cZ",
        "outputId": "a47af060-2546-4e85-c65c-25b9bb4cdd16"
      },
      "source": [
        "sns.countplot(x='Lose weight',data=gb1)\n",
        "plt.title(\"Lose weight\")\n",
        "plt.show()"
      ],
      "execution_count": 18,
      "outputs": [
        {
          "output_type": "display_data",
          "data": {
            "image/png": "[encoded data removed]",
            "text/plain": [
              "<Figure size 432x288 with 1 Axes>"
            ]
          },
          "metadata": {
            "tags": [],
            "needs_background": "light"
          }
        }
      ]
    },
    {
      "cell_type": "code",
      "metadata": {
        "colab": {
          "base_uri": "https://localhost:8080/"
        },
        "id": "c93qu04_KSez",
        "outputId": "11380f27-2f3d-4c12-da82-21af4ed408f9"
      },
      "source": [
        "gb1['Improve confidence'].value_counts(ascending=True)"
      ],
      "execution_count": 86,
      "outputs": [
        {
          "output_type": "execute_result",
          "data": {
            "text/plain": [
              "No      28\n",
              "Yes    226\n",
              "Name: Improve confidence, dtype: int64"
            ]
          },
          "metadata": {
            "tags": []
          },
          "execution_count": 86
        }
      ]
    },
    {
      "cell_type": "code",
      "metadata": {
        "colab": {
          "base_uri": "https://localhost:8080/",
          "height": 295
        },
        "id": "1wR9bosq5RaS",
        "outputId": "074b073e-374e-4177-cfe9-beea696dadb8"
      },
      "source": [
        "sns.countplot(x='Improve confidence',data=gb1)\n",
        "plt.title(\"Improve confidence\")\n",
        "plt.show()"
      ],
      "execution_count": 19,
      "outputs": [
        {
          "output_type": "display_data",
          "data": {
            "image/png": "[encoded data removed]",
            "text/plain": [
              "<Figure size 432x288 with 1 Axes>"
            ]
          },
          "metadata": {
            "tags": [],
            "needs_background": "light"
          }
        }
      ]
    },
    {
      "cell_type": "code",
      "metadata": {
        "colab": {
          "base_uri": "https://localhost:8080/"
        },
        "id": "K3h6rnfpKIJb",
        "outputId": "c8ef50e5-d156-4177-b1ab-e737752e9fc4"
      },
      "source": [
        "gb1['Physical Toughness'].value_counts(ascending=True)"
      ],
      "execution_count": 85,
      "outputs": [
        {
          "output_type": "execute_result",
          "data": {
            "text/plain": [
              "Can't Say     28\n",
              "Disagree      61\n",
              "Agree        165\n",
              "Name: Physical Toughness, dtype: int64"
            ]
          },
          "metadata": {
            "tags": []
          },
          "execution_count": 85
        }
      ]
    },
    {
      "cell_type": "code",
      "metadata": {
        "colab": {
          "base_uri": "https://localhost:8080/",
          "height": 295
        },
        "id": "ltVJU9FK3AKd",
        "outputId": "c220ab4e-24b3-456d-a8e6-9d7e2f0e056a"
      },
      "source": [
        "sns.countplot(x='Physical Toughness',data=gb1)\n",
        "plt.title(\"Physical Toughness\")\n",
        "plt.show()"
      ],
      "execution_count": 20,
      "outputs": [
        {
          "output_type": "display_data",
          "data": {
            "image/png": "[encoded data removed]",
            "text/plain": [
              "<Figure size 432x288 with 1 Axes>"
            ]
          },
          "metadata": {
            "tags": [],
            "needs_background": "light"
          }
        }
      ]
    },
    {
      "cell_type": "code",
      "metadata": {
        "colab": {
          "base_uri": "https://localhost:8080/"
        },
        "id": "Uo46iJKdKefR",
        "outputId": "a69fdf04-b62b-438d-d3c5-b083706f59a0"
      },
      "source": [
        "gb1['Fitness'].value_counts(ascending=True)"
      ],
      "execution_count": 87,
      "outputs": [
        {
          "output_type": "execute_result",
          "data": {
            "text/plain": [
              "Maybe     41\n",
              "No        60\n",
              "Yes      153\n",
              "Name: Fitness, dtype: int64"
            ]
          },
          "metadata": {
            "tags": []
          },
          "execution_count": 87
        }
      ]
    },
    {
      "cell_type": "code",
      "metadata": {
        "colab": {
          "base_uri": "https://localhost:8080/",
          "height": 295
        },
        "id": "HeeiGFXM5GqM",
        "outputId": "575cacc0-0303-4ccc-8480-41cfc7c646e4"
      },
      "source": [
        "sns.countplot(x='Fitness',data=gb1)\n",
        "plt.title(\"Fitness\")\n",
        "plt.show()"
      ],
      "execution_count": 21,
      "outputs": [
        {
          "output_type": "display_data",
          "data": {
            "image/png": "[encoded data removed]",
            "text/plain": [
              "<Figure size 432x288 with 1 Axes>"
            ]
          },
          "metadata": {
            "tags": [],
            "needs_background": "light"
          }
        }
      ]
    },
    {
      "cell_type": "code",
      "metadata": {
        "colab": {
          "base_uri": "https://localhost:8080/"
        },
        "id": "ExEDlS3xKlff",
        "outputId": "59882361-4959-4c5c-da45-5e03a81035aa"
      },
      "source": [
        "gb1['Aerobic and Anaerobic conditioning'].value_counts(ascending=True)"
      ],
      "execution_count": 88,
      "outputs": [
        {
          "output_type": "execute_result",
          "data": {
            "text/plain": [
              "False     38\n",
              "True     216\n",
              "Name: Aerobic and Anaerobic conditioning, dtype: int64"
            ]
          },
          "metadata": {
            "tags": []
          },
          "execution_count": 88
        }
      ]
    },
    {
      "cell_type": "code",
      "metadata": {
        "colab": {
          "base_uri": "https://localhost:8080/",
          "height": 295
        },
        "id": "8asdumTXAEAS",
        "outputId": "44dbc1e3-4ebc-46fb-a1db-c659785ca45f"
      },
      "source": [
        "sns.countplot(x='Aerobic and Anaerobic conditioning',data=gb1)\n",
        "plt.title(\"Aerobic and Anaerobic conditioning\")\n",
        "plt.show()"
      ],
      "execution_count": 22,
      "outputs": [
        {
          "output_type": "display_data",
          "data": {
            "image/png": "[encoded data removed]",
            "text/plain": [
              "<Figure size 432x288 with 1 Axes>"
            ]
          },
          "metadata": {
            "tags": [],
            "needs_background": "light"
          }
        }
      ]
    },
    {
      "cell_type": "code",
      "metadata": {
        "colab": {
          "base_uri": "https://localhost:8080/"
        },
        "id": "FXcT3Y2lJi7_",
        "outputId": "8ffc2908-22d2-489e-b665-596272bb1ad4"
      },
      "source": [
        "gb1['Overall Body Coordination and Proprioception'].value_counts(ascending=True)"
      ],
      "execution_count": 82,
      "outputs": [
        {
          "output_type": "execute_result",
          "data": {
            "text/plain": [
              "Strongly disagree     25\n",
              "Disagree              29\n",
              "Strongly Agree        34\n",
              "Neutral               64\n",
              "Agree                102\n",
              "Name: Overall Body Coordination and Proprioception, dtype: int64"
            ]
          },
          "metadata": {
            "tags": []
          },
          "execution_count": 82
        }
      ]
    },
    {
      "cell_type": "code",
      "metadata": {
        "colab": {
          "base_uri": "https://localhost:8080/",
          "height": 295
        },
        "id": "hhWmFyOgArrk",
        "outputId": "3591b6a7-7795-4eae-a0e4-44ed53417336"
      },
      "source": [
        "sns.countplot(x='Overall Body Coordination and Proprioception',data=gb1)\n",
        "plt.title(\"Overall Body Coordination and Proprioception\")\n",
        "plt.show()"
      ],
      "execution_count": 23,
      "outputs": [
        {
          "output_type": "display_data",
          "data": {
            "image/png": "[encoded data removed]",
            "text/plain": [
              "<Figure size 432x288 with 1 Axes>"
            ]
          },
          "metadata": {
            "tags": [],
            "needs_background": "light"
          }
        }
      ]
    },
    {
      "cell_type": "code",
      "metadata": {
        "colab": {
          "base_uri": "https://localhost:8080/"
        },
        "id": "OQPBk_sTKw3i",
        "outputId": "4d3c367c-14cc-4b4c-9512-8ffc22bb5d19"
      },
      "source": [
        "gb1['Age'].value_counts(ascending=True)"
      ],
      "execution_count": 89,
      "outputs": [
        {
          "output_type": "execute_result",
          "data": {
            "text/plain": [
              "Above 18yrs    35\n",
              "Below 18yrs    64\n",
              "Below 12yrs    66\n",
              "Below 15yrs    89\n",
              "Name: Age, dtype: int64"
            ]
          },
          "metadata": {
            "tags": []
          },
          "execution_count": 89
        }
      ]
    },
    {
      "cell_type": "code",
      "metadata": {
        "colab": {
          "base_uri": "https://localhost:8080/",
          "height": 295
        },
        "id": "d1KjYenquYwr",
        "outputId": "74a7f647-7340-4380-95b0-41b5b4a08a8c"
      },
      "source": [
        "sns.countplot(x='Age',data=gb1)\n",
        "plt.title(\"Age\")\n",
        "plt.show()"
      ],
      "execution_count": 83,
      "outputs": [
        {
          "output_type": "display_data",
          "data": {
            "image/png": "[encoded data removed]",
            "text/plain": [
              "<Figure size 432x288 with 1 Axes>"
            ]
          },
          "metadata": {
            "tags": [],
            "needs_background": "light"
          }
        }
      ]
    },
    {
      "cell_type": "code",
      "metadata": {
        "colab": {
          "base_uri": "https://localhost:8080/"
        },
        "id": "eMMR9VvhJ5yB",
        "outputId": "6b026ef5-3687-4e2c-fbe6-d630eada4ef9"
      },
      "source": [
        "gb1['Mental Toughness and Resilience'].value_counts(ascending=True)"
      ],
      "execution_count": 84,
      "outputs": [
        {
          "output_type": "execute_result",
          "data": {
            "text/plain": [
              "Disagree             31\n",
              "Strongly disagree    32\n",
              "Strongly agree       33\n",
              "Agree                77\n",
              "Neutral              81\n",
              "Name: Mental Toughness and Resilience, dtype: int64"
            ]
          },
          "metadata": {
            "tags": []
          },
          "execution_count": 84
        }
      ]
    },
    {
      "cell_type": "code",
      "metadata": {
        "colab": {
          "base_uri": "https://localhost:8080/",
          "height": 295
        },
        "id": "uiuT-VDJuK69",
        "outputId": "732eebdd-901c-493d-b401-29ef252ebe98"
      },
      "source": [
        "sns.countplot(x='Mental Toughness and Resilience',data=gb1)\n",
        "plt.title(\"Mental Toughness and Resilience\")\n",
        "plt.show()"
      ],
      "execution_count": 25,
      "outputs": [
        {
          "output_type": "display_data",
          "data": {
            "image/png": "[encoded data removed]",
            "text/plain": [
              "<Figure size 432x288 with 1 Axes>"
            ]
          },
          "metadata": {
            "tags": [],
            "needs_background": "light"
          }
        }
      ]
    },
    {
      "cell_type": "code",
      "metadata": {
        "colab": {
          "base_uri": "https://localhost:8080/"
        },
        "id": "wP0ihoOPK17e",
        "outputId": "7b745cf5-7c3b-49b4-8d01-718597b19df5"
      },
      "source": [
        "gb1['Stress Relief and Improve Sleep'].value_counts(ascending=True)"
      ],
      "execution_count": 90,
      "outputs": [
        {
          "output_type": "execute_result",
          "data": {
            "text/plain": [
              "Strongly disagree    20\n",
              "Strongly agree       29\n",
              "Disagree             33\n",
              "Agree                84\n",
              "Neutral              88\n",
              "Name: Stress Relief and Improve Sleep, dtype: int64"
            ]
          },
          "metadata": {
            "tags": []
          },
          "execution_count": 90
        }
      ]
    },
    {
      "cell_type": "code",
      "metadata": {
        "colab": {
          "base_uri": "https://localhost:8080/",
          "height": 295
        },
        "id": "Z00rBa10BG08",
        "outputId": "4fa5f383-8a14-4a5d-bed8-7877e6a42bf7"
      },
      "source": [
        "sns.countplot(x='Stress Relief and Improve Sleep',data=gb1)\n",
        "plt.title(\"Stress Relief and Improve Sleep\")\n",
        "plt.show()"
      ],
      "execution_count": 91,
      "outputs": [
        {
          "output_type": "display_data",
          "data": {
            "image/png": "[encoded data removed]",
            "text/plain": [
              "<Figure size 432x288 with 1 Axes>"
            ]
          },
          "metadata": {
            "tags": [],
            "needs_background": "light"
          }
        }
      ]
    },
    {
      "cell_type": "markdown",
      "metadata": {
        "id": "O5WwnlX9Cqip"
      },
      "source": [
        "Compare values"
      ]
    },
    {
      "cell_type": "code",
      "metadata": {
        "id": "QAdL4sCfDMeA"
      },
      "source": [
        "#gb1.corr()"
      ],
      "execution_count": null,
      "outputs": []
    },
    {
      "cell_type": "code",
      "metadata": {
        "colab": {
          "base_uri": "https://localhost:8080/",
          "height": 296
        },
        "id": "GwEuBqJS2jyP",
        "outputId": "a5ddb00f-545f-4bb8-8d95-920c8420efaa"
      },
      "source": [
        "sns.countplot(data=gb1, x='Fitness', hue='Physical Toughness')"
      ],
      "execution_count": 66,
      "outputs": [
        {
          "output_type": "execute_result",
          "data": {
            "text/plain": [
              "<matplotlib.axes._subplots.AxesSubplot at 0x7f964bb8f2d0>"
            ]
          },
          "metadata": {
            "tags": []
          },
          "execution_count": 66
        },
        {
          "output_type": "display_data",
          "data": {
            "image/png": "[encoded data removed]",
            "text/plain": [
              "<Figure size 432x288 with 1 Axes>"
            ]
          },
          "metadata": {
            "tags": [],
            "needs_background": "light"
          }
        }
      ]
    },
    {
      "cell_type": "code",
      "metadata": {
        "colab": {
          "base_uri": "https://localhost:8080/",
          "height": 296
        },
        "id": "ThvvckzQLOkU",
        "outputId": "a59e1f10-cac0-428a-cdb7-705c79e551fd"
      },
      "source": [
        "sns.countplot(data=gb1, x='Mental Toughness and Resilience', hue='Physical Toughness')"
      ],
      "execution_count": 92,
      "outputs": [
        {
          "output_type": "execute_result",
          "data": {
            "text/plain": [
              "<matplotlib.axes._subplots.AxesSubplot at 0x7f9646b07450>"
            ]
          },
          "metadata": {
            "tags": []
          },
          "execution_count": 92
        },
        {
          "output_type": "display_data",
          "data": {
            "image/png": "[encoded data removed]",
            "text/plain": [
              "<Figure size 432x288 with 1 Axes>"
            ]
          },
          "metadata": {
            "tags": [],
            "needs_background": "light"
          }
        }
      ]
    },
    {
      "cell_type": "code",
      "metadata": {
        "colab": {
          "base_uri": "https://localhost:8080/",
          "height": 296
        },
        "id": "wxy6L8c9D5CS",
        "outputId": "54e64da1-e0f0-4695-cc1e-7ad980488f7d"
      },
      "source": [
        "sns.countplot(data=gb1, x='Fitness', hue='Lose weight')"
      ],
      "execution_count": 67,
      "outputs": [
        {
          "output_type": "execute_result",
          "data": {
            "text/plain": [
              "<matplotlib.axes._subplots.AxesSubplot at 0x7f964baff810>"
            ]
          },
          "metadata": {
            "tags": []
          },
          "execution_count": 67
        },
        {
          "output_type": "display_data",
          "data": {
            "image/png": "[encoded data removed]",
            "text/plain": [
              "<Figure size 432x288 with 1 Axes>"
            ]
          },
          "metadata": {
            "tags": [],
            "needs_background": "light"
          }
        }
      ]
    },
    {
      "cell_type": "markdown",
      "metadata": {
        "id": "pmCluymJwBEn"
      },
      "source": [
        "Split"
      ]
    },
    {
      "cell_type": "code",
      "metadata": {
        "id": "rFME0ePc6Mip"
      },
      "source": [
        "gb1['Mental Toughness and Resilience'] = gb1['Mental Toughness and Resilience'].replace({ 1 : 'Strongly disagree', 2: 'Disagree',3: 'Neutral',4: 'Agree', 5: 'Strongly agree'})"
      ],
      "execution_count": 37,
      "outputs": []
    },
    {
      "cell_type": "code",
      "metadata": {
        "id": "JGA9czyRvMlk"
      },
      "source": [
        "from sklearn.model_selection import train_test_split"
      ],
      "execution_count": 38,
      "outputs": []
    },
    {
      "cell_type": "code",
      "metadata": {
        "id": "OURwka0fu-VT"
      },
      "source": [
        "X = gb1.drop(['Mental Toughness and Resilience'], axis=1)"
      ],
      "execution_count": 54,
      "outputs": []
    },
    {
      "cell_type": "code",
      "metadata": {
        "id": "y2jOhINav9mq"
      },
      "source": [
        "y = gb1['Mental Toughness and Resilience']"
      ],
      "execution_count": 56,
      "outputs": []
    },
    {
      "cell_type": "code",
      "metadata": {
        "id": "nGUdzXEIwPw5"
      },
      "source": [
        "X_train, X_test, y_train, y_test = train_test_split(X, y, test_size=0.2, random_state=42)"
      ],
      "execution_count": 57,
      "outputs": []
    },
    {
      "cell_type": "code",
      "metadata": {
        "id": "hdD_a17cwV5l"
      },
      "source": [
        "from sklearn.tree import DecisionTreeClassifier"
      ],
      "execution_count": 58,
      "outputs": []
    },
    {
      "cell_type": "code",
      "metadata": {
        "id": "kwpKA48qwaVg"
      },
      "source": [
        "dct=DecisionTreeClassifier(random_state=42)"
      ],
      "execution_count": 59,
      "outputs": []
    },
    {
      "cell_type": "code",
      "metadata": {
        "id": "R99CCKXstyR-"
      },
      "source": [
        "dummy = pd.get_dummies(gb1[['Name']], drop_first=True)"
      ],
      "execution_count": 64,
      "outputs": []
    },
    {
      "cell_type": "code",
      "metadata": {
        "colab": {
          "base_uri": "https://localhost:8080/",
          "height": 306
        },
        "id": "S0ajcRPuwfFm",
        "outputId": "bc35bdc1-5f55-404f-d600-6fe87057bd8b"
      },
      "source": [
        "dct.fit(X_train,y_train)"
      ],
      "execution_count": 68,
      "outputs": [
        {
          "output_type": "error",
          "ename": "ValueError",
          "evalue": "ignored",
          "traceback": [
            "\u001b[0;31m---------------------------------------------------------------------------\u001b[0m",
            "\u001b[0;31mValueError\u001b[0m                                Traceback (most recent call last)",
            "\u001b[0;32m<ipython-input-68-61ea63c8964b>\u001b[0m in \u001b[0;36m<module>\u001b[0;34m()\u001b[0m\n\u001b[0;32m----> 1\u001b[0;31m \u001b[0mdct\u001b[0m\u001b[0;34m.\u001b[0m\u001b[0mfit\u001b[0m\u001b[0;34m(\u001b[0m\u001b[0mX_train\u001b[0m\u001b[0;34m,\u001b[0m\u001b[0my_train\u001b[0m\u001b[0;34m)\u001b[0m\u001b[0;34m\u001b[0m\u001b[0;34m\u001b[0m\u001b[0m\n\u001b[0m",
            "\u001b[0;32m/usr/local/lib/python3.7/dist-packages/sklearn/tree/_classes.py\u001b[0m in \u001b[0;36mfit\u001b[0;34m(self, X, y, sample_weight, check_input, X_idx_sorted)\u001b[0m\n\u001b[1;32m    875\u001b[0m             \u001b[0msample_weight\u001b[0m\u001b[0;34m=\u001b[0m\u001b[0msample_weight\u001b[0m\u001b[0;34m,\u001b[0m\u001b[0;34m\u001b[0m\u001b[0;34m\u001b[0m\u001b[0m\n\u001b[1;32m    876\u001b[0m             \u001b[0mcheck_input\u001b[0m\u001b[0;34m=\u001b[0m\u001b[0mcheck_input\u001b[0m\u001b[0;34m,\u001b[0m\u001b[0;34m\u001b[0m\u001b[0;34m\u001b[0m\u001b[0m\n\u001b[0;32m--> 877\u001b[0;31m             X_idx_sorted=X_idx_sorted)\n\u001b[0m\u001b[1;32m    878\u001b[0m         \u001b[0;32mreturn\u001b[0m \u001b[0mself\u001b[0m\u001b[0;34m\u001b[0m\u001b[0;34m\u001b[0m\u001b[0m\n\u001b[1;32m    879\u001b[0m \u001b[0;34m\u001b[0m\u001b[0m\n",
            "\u001b[0;32m/usr/local/lib/python3.7/dist-packages/sklearn/tree/_classes.py\u001b[0m in \u001b[0;36mfit\u001b[0;34m(self, X, y, sample_weight, check_input, X_idx_sorted)\u001b[0m\n\u001b[1;32m    147\u001b[0m \u001b[0;34m\u001b[0m\u001b[0m\n\u001b[1;32m    148\u001b[0m         \u001b[0;32mif\u001b[0m \u001b[0mcheck_input\u001b[0m\u001b[0;34m:\u001b[0m\u001b[0;34m\u001b[0m\u001b[0;34m\u001b[0m\u001b[0m\n\u001b[0;32m--> 149\u001b[0;31m             \u001b[0mX\u001b[0m \u001b[0;34m=\u001b[0m \u001b[0mcheck_array\u001b[0m\u001b[0;34m(\u001b[0m\u001b[0mX\u001b[0m\u001b[0;34m,\u001b[0m \u001b[0mdtype\u001b[0m\u001b[0;34m=\u001b[0m\u001b[0mDTYPE\u001b[0m\u001b[0;34m,\u001b[0m \u001b[0maccept_sparse\u001b[0m\u001b[0;34m=\u001b[0m\u001b[0;34m\"csc\"\u001b[0m\u001b[0;34m)\u001b[0m\u001b[0;34m\u001b[0m\u001b[0;34m\u001b[0m\u001b[0m\n\u001b[0m\u001b[1;32m    150\u001b[0m             \u001b[0my\u001b[0m \u001b[0;34m=\u001b[0m \u001b[0mcheck_array\u001b[0m\u001b[0;34m(\u001b[0m\u001b[0my\u001b[0m\u001b[0;34m,\u001b[0m \u001b[0mensure_2d\u001b[0m\u001b[0;34m=\u001b[0m\u001b[0;32mFalse\u001b[0m\u001b[0;34m,\u001b[0m \u001b[0mdtype\u001b[0m\u001b[0;34m=\u001b[0m\u001b[0;32mNone\u001b[0m\u001b[0;34m)\u001b[0m\u001b[0;34m\u001b[0m\u001b[0;34m\u001b[0m\u001b[0m\n\u001b[1;32m    151\u001b[0m             \u001b[0;32mif\u001b[0m \u001b[0missparse\u001b[0m\u001b[0;34m(\u001b[0m\u001b[0mX\u001b[0m\u001b[0;34m)\u001b[0m\u001b[0;34m:\u001b[0m\u001b[0;34m\u001b[0m\u001b[0;34m\u001b[0m\u001b[0m\n",
            "\u001b[0;32m/usr/local/lib/python3.7/dist-packages/sklearn/utils/validation.py\u001b[0m in \u001b[0;36mcheck_array\u001b[0;34m(array, accept_sparse, accept_large_sparse, dtype, order, copy, force_all_finite, ensure_2d, allow_nd, ensure_min_samples, ensure_min_features, warn_on_dtype, estimator)\u001b[0m\n\u001b[1;32m    529\u001b[0m                     \u001b[0marray\u001b[0m \u001b[0;34m=\u001b[0m \u001b[0marray\u001b[0m\u001b[0;34m.\u001b[0m\u001b[0mastype\u001b[0m\u001b[0;34m(\u001b[0m\u001b[0mdtype\u001b[0m\u001b[0;34m,\u001b[0m \u001b[0mcasting\u001b[0m\u001b[0;34m=\u001b[0m\u001b[0;34m\"unsafe\"\u001b[0m\u001b[0;34m,\u001b[0m \u001b[0mcopy\u001b[0m\u001b[0;34m=\u001b[0m\u001b[0;32mFalse\u001b[0m\u001b[0;34m)\u001b[0m\u001b[0;34m\u001b[0m\u001b[0;34m\u001b[0m\u001b[0m\n\u001b[1;32m    530\u001b[0m                 \u001b[0;32melse\u001b[0m\u001b[0;34m:\u001b[0m\u001b[0;34m\u001b[0m\u001b[0;34m\u001b[0m\u001b[0m\n\u001b[0;32m--> 531\u001b[0;31m                     \u001b[0marray\u001b[0m \u001b[0;34m=\u001b[0m \u001b[0mnp\u001b[0m\u001b[0;34m.\u001b[0m\u001b[0masarray\u001b[0m\u001b[0;34m(\u001b[0m\u001b[0marray\u001b[0m\u001b[0;34m,\u001b[0m \u001b[0morder\u001b[0m\u001b[0;34m=\u001b[0m\u001b[0morder\u001b[0m\u001b[0;34m,\u001b[0m \u001b[0mdtype\u001b[0m\u001b[0;34m=\u001b[0m\u001b[0mdtype\u001b[0m\u001b[0;34m)\u001b[0m\u001b[0;34m\u001b[0m\u001b[0;34m\u001b[0m\u001b[0m\n\u001b[0m\u001b[1;32m    532\u001b[0m             \u001b[0;32mexcept\u001b[0m \u001b[0mComplexWarning\u001b[0m\u001b[0;34m:\u001b[0m\u001b[0;34m\u001b[0m\u001b[0;34m\u001b[0m\u001b[0m\n\u001b[1;32m    533\u001b[0m                 raise ValueError(\"Complex data not supported\\n\"\n",
            "\u001b[0;32m/usr/local/lib/python3.7/dist-packages/numpy/core/_asarray.py\u001b[0m in \u001b[0;36masarray\u001b[0;34m(a, dtype, order)\u001b[0m\n\u001b[1;32m     81\u001b[0m \u001b[0;34m\u001b[0m\u001b[0m\n\u001b[1;32m     82\u001b[0m     \"\"\"\n\u001b[0;32m---> 83\u001b[0;31m     \u001b[0;32mreturn\u001b[0m \u001b[0marray\u001b[0m\u001b[0;34m(\u001b[0m\u001b[0ma\u001b[0m\u001b[0;34m,\u001b[0m \u001b[0mdtype\u001b[0m\u001b[0;34m,\u001b[0m \u001b[0mcopy\u001b[0m\u001b[0;34m=\u001b[0m\u001b[0;32mFalse\u001b[0m\u001b[0;34m,\u001b[0m \u001b[0morder\u001b[0m\u001b[0;34m=\u001b[0m\u001b[0morder\u001b[0m\u001b[0;34m)\u001b[0m\u001b[0;34m\u001b[0m\u001b[0;34m\u001b[0m\u001b[0m\n\u001b[0m\u001b[1;32m     84\u001b[0m \u001b[0;34m\u001b[0m\u001b[0m\n\u001b[1;32m     85\u001b[0m \u001b[0;34m\u001b[0m\u001b[0m\n",
            "\u001b[0;32m/usr/local/lib/python3.7/dist-packages/pandas/core/generic.py\u001b[0m in \u001b[0;36m__array__\u001b[0;34m(self, dtype)\u001b[0m\n\u001b[1;32m   1779\u001b[0m \u001b[0;34m\u001b[0m\u001b[0m\n\u001b[1;32m   1780\u001b[0m     \u001b[0;32mdef\u001b[0m \u001b[0m__array__\u001b[0m\u001b[0;34m(\u001b[0m\u001b[0mself\u001b[0m\u001b[0;34m,\u001b[0m \u001b[0mdtype\u001b[0m\u001b[0;34m=\u001b[0m\u001b[0;32mNone\u001b[0m\u001b[0;34m)\u001b[0m \u001b[0;34m->\u001b[0m \u001b[0mnp\u001b[0m\u001b[0;34m.\u001b[0m\u001b[0mndarray\u001b[0m\u001b[0;34m:\u001b[0m\u001b[0;34m\u001b[0m\u001b[0;34m\u001b[0m\u001b[0m\n\u001b[0;32m-> 1781\u001b[0;31m         \u001b[0;32mreturn\u001b[0m \u001b[0mnp\u001b[0m\u001b[0;34m.\u001b[0m\u001b[0masarray\u001b[0m\u001b[0;34m(\u001b[0m\u001b[0mself\u001b[0m\u001b[0;34m.\u001b[0m\u001b[0m_values\u001b[0m\u001b[0;34m,\u001b[0m \u001b[0mdtype\u001b[0m\u001b[0;34m=\u001b[0m\u001b[0mdtype\u001b[0m\u001b[0;34m)\u001b[0m\u001b[0;34m\u001b[0m\u001b[0;34m\u001b[0m\u001b[0m\n\u001b[0m\u001b[1;32m   1782\u001b[0m \u001b[0;34m\u001b[0m\u001b[0m\n\u001b[1;32m   1783\u001b[0m     \u001b[0;32mdef\u001b[0m \u001b[0m__array_wrap__\u001b[0m\u001b[0;34m(\u001b[0m\u001b[0mself\u001b[0m\u001b[0;34m,\u001b[0m \u001b[0mresult\u001b[0m\u001b[0;34m,\u001b[0m \u001b[0mcontext\u001b[0m\u001b[0;34m=\u001b[0m\u001b[0;32mNone\u001b[0m\u001b[0;34m)\u001b[0m\u001b[0;34m:\u001b[0m\u001b[0;34m\u001b[0m\u001b[0;34m\u001b[0m\u001b[0m\n",
            "\u001b[0;32m/usr/local/lib/python3.7/dist-packages/numpy/core/_asarray.py\u001b[0m in \u001b[0;36masarray\u001b[0;34m(a, dtype, order)\u001b[0m\n\u001b[1;32m     81\u001b[0m \u001b[0;34m\u001b[0m\u001b[0m\n\u001b[1;32m     82\u001b[0m     \"\"\"\n\u001b[0;32m---> 83\u001b[0;31m     \u001b[0;32mreturn\u001b[0m \u001b[0marray\u001b[0m\u001b[0;34m(\u001b[0m\u001b[0ma\u001b[0m\u001b[0;34m,\u001b[0m \u001b[0mdtype\u001b[0m\u001b[0;34m,\u001b[0m \u001b[0mcopy\u001b[0m\u001b[0;34m=\u001b[0m\u001b[0;32mFalse\u001b[0m\u001b[0;34m,\u001b[0m \u001b[0morder\u001b[0m\u001b[0;34m=\u001b[0m\u001b[0morder\u001b[0m\u001b[0;34m)\u001b[0m\u001b[0;34m\u001b[0m\u001b[0;34m\u001b[0m\u001b[0m\n\u001b[0m\u001b[1;32m     84\u001b[0m \u001b[0;34m\u001b[0m\u001b[0m\n\u001b[1;32m     85\u001b[0m \u001b[0;34m\u001b[0m\u001b[0m\n",
            "\u001b[0;31mValueError\u001b[0m: could not convert string to float: 'Shivani vishwas surve'"
          ]
        }
      ]
    },
    {
      "cell_type": "code",
      "metadata": {
        "id": "DuYyGXxRwug4"
      },
      "source": [
        ""
      ],
      "execution_count": null,
      "outputs": []
    }
  ]
}