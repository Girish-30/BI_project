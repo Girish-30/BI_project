{
  "nbformat": 4,
  "nbformat_minor": 0,
  "metadata": {
    "colab": {
      "name": "Pyth_Project.ipynb",
      "provenance": [],
      "authorship_tag": "ABX9TyO2DsJjWxRQPCgQcGszK1Vg",
      "include_colab_link": true
    },
    "kernelspec": {
      "name": "python3",
      "display_name": "Python 3"
    },
    "language_info": {
      "name": "python"
    }
  },
  "cells": [
    {
      "cell_type": "markdown",
      "metadata": {
        "id": "view-in-github",
        "colab_type": "text"
      },
      "source": [
        "<a href=\"https://colab.research.google.com/github/Girish-30/BI_project/blob/main/Pyth_Project.ipynb\" target=\"_parent\"><img src=\"https://colab.research.google.com/assets/colab-badge.svg\" alt=\"Open In Colab\"/></a>"
      ]
    },
    {
      "cell_type": "code",
      "metadata": {
        "id": "8W9F6VOhZcW3"
      },
      "source": [
        "import numpy as np\n",
        "import pandas as pd\n",
        "import matplotlib.pyplot as plt\n",
        "import seaborn as sns"
      ],
      "execution_count": 1,
      "outputs": []
    },
    {
      "cell_type": "code",
      "metadata": {
        "id": "aZVm7OZzeUcF"
      },
      "source": [
        "pd.set_option('display.max_columns', None)\n"
      ],
      "execution_count": 2,
      "outputs": []
    },
    {
      "cell_type": "code",
      "metadata": {
        "id": "_JUZYbJqsKqW"
      },
      "source": [
        "gb1=pd.read_csv('/content/MMA FIGHTERS & GYMS.csv')"
      ],
      "execution_count": 3,
      "outputs": []
    },
    {
      "cell_type": "code",
      "metadata": {
        "colab": {
          "base_uri": "https://localhost:8080/"
        },
        "id": "NsMVNetTsalr",
        "outputId": "ec31edaa-6bdb-4900-ae9a-65133fd10906"
      },
      "source": [
        "print(gb1.head(10))"
      ],
      "execution_count": 5,
      "outputs": [
        {
          "output_type": "stream",
          "text": [
            "                        Timestamp            Name  \\\n",
            "0  2021/03/02 9:28:07 PM GMT+5:30         chinmay   \n",
            "1  2021/03/02 9:36:19 PM GMT+5:30  Simran mahadik   \n",
            "2  2021/03/03 5:08:28 PM GMT+5:30           Anuja   \n",
            "3  2021/03/03 6:04:48 PM GMT+5:30    Sonali more    \n",
            "4  2021/03/04 4:24:27 PM GMT+5:30     Uma Jagkar    \n",
            "5  2021/03/04 4:26:35 PM GMT+5:30    Neha Chauhan   \n",
            "6  2021/03/04 4:26:56 PM GMT+5:30    Vishal Lanke   \n",
            "7  2021/03/04 4:28:40 PM GMT+5:30  Miss Universe    \n",
            "8  2021/03/04 4:29:15 PM GMT+5:30  Shubham Gawade   \n",
            "9  2021/03/04 4:35:47 PM GMT+5:30     Rahul kumar   \n",
            "\n",
            "  What aspects of MMA(Mixed Martial Arts) do you find most entertaining?  \\\n",
            "0                     Kung Fu;Capoeira;Karate;Kalari                       \n",
            "1                                          Taekwondo                       \n",
            "2                                   Taekwondo;Karate                       \n",
            "3                                             Karate                       \n",
            "4                                     Kung Fu;Karate                       \n",
            "5                              Kung Fu;Karate;Kalari                       \n",
            "6                                          Taekwondo                       \n",
            "7  Taekwondo;Kung Fu;Capoeira;Karate;Kalari;Muay ...                       \n",
            "8                                             Karate                       \n",
            "9                                          Taekwondo                       \n",
            "\n",
            "  At What Age did you first hear about MMA(Mixed Martial Arts)?  \\\n",
            "0                                        Below 18yrs              \n",
            "1                                        Above 18yrs              \n",
            "2                                        Below 15yrs              \n",
            "3                                        Below 15yrs              \n",
            "4                                        Below 15yrs              \n",
            "5                                        Below 12yrs              \n",
            "6                                        Below 12yrs              \n",
            "7                                        Below 12yrs              \n",
            "8                                        Below 15yrs              \n",
            "9                                        Below 12yrs              \n",
            "\n",
            "  MMA(Mixed Martial Arts) Help to Improve confidence?  \\\n",
            "0                                                Yes    \n",
            "1                                                Yes    \n",
            "2                                                Yes    \n",
            "3                                                Yes    \n",
            "4                                                Yes    \n",
            "5                                                Yes    \n",
            "6                                                Yes    \n",
            "7                                                Yes    \n",
            "8                                                Yes    \n",
            "9                                                Yes    \n",
            "\n",
            "  MMA(Mixed Martial Arts) Helps to  Improves Physical Toughness?  \\\n",
            "0                                              Agree               \n",
            "1                                              Agree               \n",
            "2                                              Agree               \n",
            "3                                              Agree               \n",
            "4                                              Agree               \n",
            "5                                              Agree               \n",
            "6                                          Can't Say               \n",
            "7                                           Disagree               \n",
            "8                                              Agree               \n",
            "9                                              Agree               \n",
            "\n",
            "  MMA(Mixed Martial Arts) Helps to  Improves Mental Toughness and Resilience?  \\\n",
            "0                                  Strongly disagree                            \n",
            "1                                              Agree                            \n",
            "2                                            Neutral                            \n",
            "3                                              Agree                            \n",
            "4                                              Agree                            \n",
            "5                                     Strongly agree                            \n",
            "6                                              Agree                            \n",
            "7                                  Strongly disagree                            \n",
            "8                                              Agree                            \n",
            "9                                  Strongly disagree                            \n",
            "\n",
            "   MMA(Mixed Martial Arts) Helps to Improve aerobic and anaerobic conditioning?  \\\n",
            "0                                               True                              \n",
            "1                                               True                              \n",
            "2                                               True                              \n",
            "3                                               True                              \n",
            "4                                               True                              \n",
            "5                                               True                              \n",
            "6                                               True                              \n",
            "7                                              False                              \n",
            "8                                               True                              \n",
            "9                                               True                              \n",
            "\n",
            "  MMA(Mixed Martial Arts) leads to fitness . Do You agree?  \\\n",
            "0                                                Yes         \n",
            "1                                                Yes         \n",
            "2                                                Yes         \n",
            "3                                                Yes         \n",
            "4                                                Yes         \n",
            "5                                                Yes         \n",
            "6                                              Maybe         \n",
            "7                                                 No         \n",
            "8                                                Yes         \n",
            "9                                                Yes         \n",
            "\n",
            "  MMA(Mixed Martial Arts) Helps to Improve Overall Body Coordination and Proprioception?  \\\n",
            "0                                  Strongly disagree                                       \n",
            "1                                              Agree                                       \n",
            "2                                              Agree                                       \n",
            "3                                              Agree                                       \n",
            "4                                              Agree                                       \n",
            "5                                     Strongly Agree                                       \n",
            "6                                            Neutral                                       \n",
            "7                                  Strongly disagree                                       \n",
            "8                                              Agree                                       \n",
            "9                                  Strongly disagree                                       \n",
            "\n",
            "  MMA(Mixed Martial Arts) Helps to Stress Relief and Improve Sleep?  \\\n",
            "0                                  Strongly disagree                  \n",
            "1                                              Agree                  \n",
            "2                                              Agree                  \n",
            "3                                              Agree                  \n",
            "4                                              Agree                  \n",
            "5                                              Agree                  \n",
            "6                                              Agree                  \n",
            "7                                  Strongly disagree                  \n",
            "8                                              Agree                  \n",
            "9                                  Strongly disagree                  \n",
            "\n",
            "  MMA(Mixed Martial Arts) Helps to Lose weight?  \n",
            "0                                           Yes  \n",
            "1                                           Yes  \n",
            "2                                            No  \n",
            "3                                           Yes  \n",
            "4                                           Yes  \n",
            "5                                           Yes  \n",
            "6                                           Yes  \n",
            "7                                            No  \n",
            "8                                           Yes  \n",
            "9                                           Yes  \n"
          ],
          "name": "stdout"
        }
      ]
    },
    {
      "cell_type": "code",
      "metadata": {
        "id": "IV0OL6Cxt7cC"
      },
      "source": [
        "import numpy as np\n",
        "import pandas as pd\n",
        "import matplotlib.pyplot as plt\n",
        "import seaborn as sns"
      ],
      "execution_count": 13,
      "outputs": []
    },
    {
      "cell_type": "code",
      "metadata": {
        "id": "F2IFBcvXwC-n"
      },
      "source": [
        "in_time=pd.read_csv('/content/MMA FIGHTERS & GYMS.csv')"
      ],
      "execution_count": 14,
      "outputs": []
    },
    {
      "cell_type": "code",
      "metadata": {
        "colab": {
          "base_uri": "https://localhost:8080/",
          "height": 1000
        },
        "id": "6PzZeonHwQHe",
        "outputId": "47845708-a806-42d0-e102-92c1dd39e567"
      },
      "source": [
        "in_time.head(10)"
      ],
      "execution_count": 15,
      "outputs": [
        {
          "output_type": "execute_result",
          "data": {
            "text/html": [
              "<div>\n",
              "<style scoped>\n",
              "    .dataframe tbody tr th:only-of-type {\n",
              "        vertical-align: middle;\n",
              "    }\n",
              "\n",
              "    .dataframe tbody tr th {\n",
              "        vertical-align: top;\n",
              "    }\n",
              "\n",
              "    .dataframe thead th {\n",
              "        text-align: right;\n",
              "    }\n",
              "</style>\n",
              "<table border=\"1\" class=\"dataframe\">\n",
              "  <thead>\n",
              "    <tr style=\"text-align: right;\">\n",
              "      <th></th>\n",
              "      <th>Timestamp</th>\n",
              "      <th>Name</th>\n",
              "      <th>What aspects of MMA(Mixed Martial Arts) do you find most entertaining?</th>\n",
              "      <th>At What Age did you first hear about MMA(Mixed Martial Arts)?</th>\n",
              "      <th>MMA(Mixed Martial Arts) Help to Improve confidence?</th>\n",
              "      <th>MMA(Mixed Martial Arts) Helps to  Improves Physical Toughness?</th>\n",
              "      <th>MMA(Mixed Martial Arts) Helps to  Improves Mental Toughness and Resilience?</th>\n",
              "      <th>MMA(Mixed Martial Arts) Helps to Improve aerobic and anaerobic conditioning?</th>\n",
              "      <th>MMA(Mixed Martial Arts) leads to fitness . Do You agree?</th>\n",
              "      <th>MMA(Mixed Martial Arts) Helps to Improve Overall Body Coordination and Proprioception?</th>\n",
              "      <th>MMA(Mixed Martial Arts) Helps to Stress Relief and Improve Sleep?</th>\n",
              "      <th>MMA(Mixed Martial Arts) Helps to Lose weight?</th>\n",
              "    </tr>\n",
              "  </thead>\n",
              "  <tbody>\n",
              "    <tr>\n",
              "      <th>0</th>\n",
              "      <td>2021/03/02 9:28:07 PM GMT+5:30</td>\n",
              "      <td>chinmay</td>\n",
              "      <td>Kung Fu;Capoeira;Karate;Kalari</td>\n",
              "      <td>Below 18yrs</td>\n",
              "      <td>Yes</td>\n",
              "      <td>Agree</td>\n",
              "      <td>Strongly disagree</td>\n",
              "      <td>True</td>\n",
              "      <td>Yes</td>\n",
              "      <td>Strongly disagree</td>\n",
              "      <td>Strongly disagree</td>\n",
              "      <td>Yes</td>\n",
              "    </tr>\n",
              "    <tr>\n",
              "      <th>1</th>\n",
              "      <td>2021/03/02 9:36:19 PM GMT+5:30</td>\n",
              "      <td>Simran mahadik</td>\n",
              "      <td>Taekwondo</td>\n",
              "      <td>Above 18yrs</td>\n",
              "      <td>Yes</td>\n",
              "      <td>Agree</td>\n",
              "      <td>Agree</td>\n",
              "      <td>True</td>\n",
              "      <td>Yes</td>\n",
              "      <td>Agree</td>\n",
              "      <td>Agree</td>\n",
              "      <td>Yes</td>\n",
              "    </tr>\n",
              "    <tr>\n",
              "      <th>2</th>\n",
              "      <td>2021/03/03 5:08:28 PM GMT+5:30</td>\n",
              "      <td>Anuja</td>\n",
              "      <td>Taekwondo;Karate</td>\n",
              "      <td>Below 15yrs</td>\n",
              "      <td>Yes</td>\n",
              "      <td>Agree</td>\n",
              "      <td>Neutral</td>\n",
              "      <td>True</td>\n",
              "      <td>Yes</td>\n",
              "      <td>Agree</td>\n",
              "      <td>Agree</td>\n",
              "      <td>No</td>\n",
              "    </tr>\n",
              "    <tr>\n",
              "      <th>3</th>\n",
              "      <td>2021/03/03 6:04:48 PM GMT+5:30</td>\n",
              "      <td>Sonali more</td>\n",
              "      <td>Karate</td>\n",
              "      <td>Below 15yrs</td>\n",
              "      <td>Yes</td>\n",
              "      <td>Agree</td>\n",
              "      <td>Agree</td>\n",
              "      <td>True</td>\n",
              "      <td>Yes</td>\n",
              "      <td>Agree</td>\n",
              "      <td>Agree</td>\n",
              "      <td>Yes</td>\n",
              "    </tr>\n",
              "    <tr>\n",
              "      <th>4</th>\n",
              "      <td>2021/03/04 4:24:27 PM GMT+5:30</td>\n",
              "      <td>Uma Jagkar</td>\n",
              "      <td>Kung Fu;Karate</td>\n",
              "      <td>Below 15yrs</td>\n",
              "      <td>Yes</td>\n",
              "      <td>Agree</td>\n",
              "      <td>Agree</td>\n",
              "      <td>True</td>\n",
              "      <td>Yes</td>\n",
              "      <td>Agree</td>\n",
              "      <td>Agree</td>\n",
              "      <td>Yes</td>\n",
              "    </tr>\n",
              "    <tr>\n",
              "      <th>5</th>\n",
              "      <td>2021/03/04 4:26:35 PM GMT+5:30</td>\n",
              "      <td>Neha Chauhan</td>\n",
              "      <td>Kung Fu;Karate;Kalari</td>\n",
              "      <td>Below 12yrs</td>\n",
              "      <td>Yes</td>\n",
              "      <td>Agree</td>\n",
              "      <td>Strongly agree</td>\n",
              "      <td>True</td>\n",
              "      <td>Yes</td>\n",
              "      <td>Strongly Agree</td>\n",
              "      <td>Agree</td>\n",
              "      <td>Yes</td>\n",
              "    </tr>\n",
              "    <tr>\n",
              "      <th>6</th>\n",
              "      <td>2021/03/04 4:26:56 PM GMT+5:30</td>\n",
              "      <td>Vishal Lanke</td>\n",
              "      <td>Taekwondo</td>\n",
              "      <td>Below 12yrs</td>\n",
              "      <td>Yes</td>\n",
              "      <td>Can't Say</td>\n",
              "      <td>Agree</td>\n",
              "      <td>True</td>\n",
              "      <td>Maybe</td>\n",
              "      <td>Neutral</td>\n",
              "      <td>Agree</td>\n",
              "      <td>Yes</td>\n",
              "    </tr>\n",
              "    <tr>\n",
              "      <th>7</th>\n",
              "      <td>2021/03/04 4:28:40 PM GMT+5:30</td>\n",
              "      <td>Miss Universe</td>\n",
              "      <td>Taekwondo;Kung Fu;Capoeira;Karate;Kalari;Muay ...</td>\n",
              "      <td>Below 12yrs</td>\n",
              "      <td>Yes</td>\n",
              "      <td>Disagree</td>\n",
              "      <td>Strongly disagree</td>\n",
              "      <td>False</td>\n",
              "      <td>No</td>\n",
              "      <td>Strongly disagree</td>\n",
              "      <td>Strongly disagree</td>\n",
              "      <td>No</td>\n",
              "    </tr>\n",
              "    <tr>\n",
              "      <th>8</th>\n",
              "      <td>2021/03/04 4:29:15 PM GMT+5:30</td>\n",
              "      <td>Shubham Gawade</td>\n",
              "      <td>Karate</td>\n",
              "      <td>Below 15yrs</td>\n",
              "      <td>Yes</td>\n",
              "      <td>Agree</td>\n",
              "      <td>Agree</td>\n",
              "      <td>True</td>\n",
              "      <td>Yes</td>\n",
              "      <td>Agree</td>\n",
              "      <td>Agree</td>\n",
              "      <td>Yes</td>\n",
              "    </tr>\n",
              "    <tr>\n",
              "      <th>9</th>\n",
              "      <td>2021/03/04 4:35:47 PM GMT+5:30</td>\n",
              "      <td>Rahul kumar</td>\n",
              "      <td>Taekwondo</td>\n",
              "      <td>Below 12yrs</td>\n",
              "      <td>Yes</td>\n",
              "      <td>Agree</td>\n",
              "      <td>Strongly disagree</td>\n",
              "      <td>True</td>\n",
              "      <td>Yes</td>\n",
              "      <td>Strongly disagree</td>\n",
              "      <td>Strongly disagree</td>\n",
              "      <td>Yes</td>\n",
              "    </tr>\n",
              "  </tbody>\n",
              "</table>\n",
              "</div>"
            ],
            "text/plain": [
              "                        Timestamp            Name  \\\n",
              "0  2021/03/02 9:28:07 PM GMT+5:30         chinmay   \n",
              "1  2021/03/02 9:36:19 PM GMT+5:30  Simran mahadik   \n",
              "2  2021/03/03 5:08:28 PM GMT+5:30           Anuja   \n",
              "3  2021/03/03 6:04:48 PM GMT+5:30    Sonali more    \n",
              "4  2021/03/04 4:24:27 PM GMT+5:30     Uma Jagkar    \n",
              "5  2021/03/04 4:26:35 PM GMT+5:30    Neha Chauhan   \n",
              "6  2021/03/04 4:26:56 PM GMT+5:30    Vishal Lanke   \n",
              "7  2021/03/04 4:28:40 PM GMT+5:30  Miss Universe    \n",
              "8  2021/03/04 4:29:15 PM GMT+5:30  Shubham Gawade   \n",
              "9  2021/03/04 4:35:47 PM GMT+5:30     Rahul kumar   \n",
              "\n",
              "  What aspects of MMA(Mixed Martial Arts) do you find most entertaining?  \\\n",
              "0                     Kung Fu;Capoeira;Karate;Kalari                       \n",
              "1                                          Taekwondo                       \n",
              "2                                   Taekwondo;Karate                       \n",
              "3                                             Karate                       \n",
              "4                                     Kung Fu;Karate                       \n",
              "5                              Kung Fu;Karate;Kalari                       \n",
              "6                                          Taekwondo                       \n",
              "7  Taekwondo;Kung Fu;Capoeira;Karate;Kalari;Muay ...                       \n",
              "8                                             Karate                       \n",
              "9                                          Taekwondo                       \n",
              "\n",
              "  At What Age did you first hear about MMA(Mixed Martial Arts)?  \\\n",
              "0                                        Below 18yrs              \n",
              "1                                        Above 18yrs              \n",
              "2                                        Below 15yrs              \n",
              "3                                        Below 15yrs              \n",
              "4                                        Below 15yrs              \n",
              "5                                        Below 12yrs              \n",
              "6                                        Below 12yrs              \n",
              "7                                        Below 12yrs              \n",
              "8                                        Below 15yrs              \n",
              "9                                        Below 12yrs              \n",
              "\n",
              "  MMA(Mixed Martial Arts) Help to Improve confidence?  \\\n",
              "0                                                Yes    \n",
              "1                                                Yes    \n",
              "2                                                Yes    \n",
              "3                                                Yes    \n",
              "4                                                Yes    \n",
              "5                                                Yes    \n",
              "6                                                Yes    \n",
              "7                                                Yes    \n",
              "8                                                Yes    \n",
              "9                                                Yes    \n",
              "\n",
              "  MMA(Mixed Martial Arts) Helps to  Improves Physical Toughness?  \\\n",
              "0                                              Agree               \n",
              "1                                              Agree               \n",
              "2                                              Agree               \n",
              "3                                              Agree               \n",
              "4                                              Agree               \n",
              "5                                              Agree               \n",
              "6                                          Can't Say               \n",
              "7                                           Disagree               \n",
              "8                                              Agree               \n",
              "9                                              Agree               \n",
              "\n",
              "  MMA(Mixed Martial Arts) Helps to  Improves Mental Toughness and Resilience?  \\\n",
              "0                                  Strongly disagree                            \n",
              "1                                              Agree                            \n",
              "2                                            Neutral                            \n",
              "3                                              Agree                            \n",
              "4                                              Agree                            \n",
              "5                                     Strongly agree                            \n",
              "6                                              Agree                            \n",
              "7                                  Strongly disagree                            \n",
              "8                                              Agree                            \n",
              "9                                  Strongly disagree                            \n",
              "\n",
              "   MMA(Mixed Martial Arts) Helps to Improve aerobic and anaerobic conditioning?  \\\n",
              "0                                               True                              \n",
              "1                                               True                              \n",
              "2                                               True                              \n",
              "3                                               True                              \n",
              "4                                               True                              \n",
              "5                                               True                              \n",
              "6                                               True                              \n",
              "7                                              False                              \n",
              "8                                               True                              \n",
              "9                                               True                              \n",
              "\n",
              "  MMA(Mixed Martial Arts) leads to fitness . Do You agree?  \\\n",
              "0                                                Yes         \n",
              "1                                                Yes         \n",
              "2                                                Yes         \n",
              "3                                                Yes         \n",
              "4                                                Yes         \n",
              "5                                                Yes         \n",
              "6                                              Maybe         \n",
              "7                                                 No         \n",
              "8                                                Yes         \n",
              "9                                                Yes         \n",
              "\n",
              "  MMA(Mixed Martial Arts) Helps to Improve Overall Body Coordination and Proprioception?  \\\n",
              "0                                  Strongly disagree                                       \n",
              "1                                              Agree                                       \n",
              "2                                              Agree                                       \n",
              "3                                              Agree                                       \n",
              "4                                              Agree                                       \n",
              "5                                     Strongly Agree                                       \n",
              "6                                            Neutral                                       \n",
              "7                                  Strongly disagree                                       \n",
              "8                                              Agree                                       \n",
              "9                                  Strongly disagree                                       \n",
              "\n",
              "  MMA(Mixed Martial Arts) Helps to Stress Relief and Improve Sleep?  \\\n",
              "0                                  Strongly disagree                  \n",
              "1                                              Agree                  \n",
              "2                                              Agree                  \n",
              "3                                              Agree                  \n",
              "4                                              Agree                  \n",
              "5                                              Agree                  \n",
              "6                                              Agree                  \n",
              "7                                  Strongly disagree                  \n",
              "8                                              Agree                  \n",
              "9                                  Strongly disagree                  \n",
              "\n",
              "  MMA(Mixed Martial Arts) Helps to Lose weight?  \n",
              "0                                           Yes  \n",
              "1                                           Yes  \n",
              "2                                            No  \n",
              "3                                           Yes  \n",
              "4                                           Yes  \n",
              "5                                           Yes  \n",
              "6                                           Yes  \n",
              "7                                            No  \n",
              "8                                           Yes  \n",
              "9                                           Yes  "
            ]
          },
          "metadata": {
            "tags": []
          },
          "execution_count": 15
        }
      ]
    },
    {
      "cell_type": "code",
      "metadata": {
        "id": "66K_cnNQfnp-"
      },
      "source": [
        "#gb1.dropna(inplace=True)"
      ],
      "execution_count": 21,
      "outputs": []
    },
    {
      "cell_type": "code",
      "metadata": {
        "colab": {
          "base_uri": "https://localhost:8080/"
        },
        "id": "0Nr3Rv8kgDEI",
        "outputId": "1b14257b-b367-42a7-b066-3d3cee40897b"
      },
      "source": [
        "gb1.isnull().sum()"
      ],
      "execution_count": 23,
      "outputs": [
        {
          "output_type": "execute_result",
          "data": {
            "text/plain": [
              "Timestamp                                                                                 0\n",
              "Name                                                                                      0\n",
              "What aspects of MMA(Mixed Martial Arts) do you find most entertaining?                    0\n",
              "At What Age did you first hear about MMA(Mixed Martial Arts)?                             0\n",
              "MMA(Mixed Martial Arts) Help to Improve confidence?                                       0\n",
              "MMA(Mixed Martial Arts) Helps to  Improves Physical Toughness?                            0\n",
              "MMA(Mixed Martial Arts) Helps to  Improves Mental Toughness and Resilience?               0\n",
              "MMA(Mixed Martial Arts) Helps to Improve aerobic and anaerobic conditioning?              0\n",
              "MMA(Mixed Martial Arts) leads to fitness . Do You agree?                                  0\n",
              "MMA(Mixed Martial Arts) Helps to Improve Overall Body Coordination and Proprioception?    0\n",
              "MMA(Mixed Martial Arts) Helps to Stress Relief and Improve Sleep?                         0\n",
              "MMA(Mixed Martial Arts) Helps to Lose weight?                                             0\n",
              "dtype: int64"
            ]
          },
          "metadata": {
            "tags": []
          },
          "execution_count": 23
        }
      ]
    },
    {
      "cell_type": "code",
      "metadata": {
        "colab": {
          "base_uri": "https://localhost:8080/"
        },
        "id": "1KhE3B6fnlPZ",
        "outputId": "63b9111c-396a-415d-e8ac-209239970cf0"
      },
      "source": [
        "gb1.shape"
      ],
      "execution_count": 27,
      "outputs": [
        {
          "output_type": "execute_result",
          "data": {
            "text/plain": [
              "(254, 12)"
            ]
          },
          "metadata": {
            "tags": []
          },
          "execution_count": 27
        }
      ]
    },
    {
      "cell_type": "code",
      "metadata": {
        "colab": {
          "base_uri": "https://localhost:8080/",
          "height": 295
        },
        "id": "oeWZFhFg13cZ",
        "outputId": "d73a1c90-3573-4a2d-fc7b-ffff6509d0d7"
      },
      "source": [
        "sns.countplot(x='MMA(Mixed Martial Arts) Helps to Lose weight?',data=gb1)\n",
        "plt.title(\"MMA(Mixed Martial Arts) Helps to Lose weight?\")\n",
        "plt.show()"
      ],
      "execution_count": 34,
      "outputs": [
        {
          "output_type": "display_data",
          "data": {
            "image/png": "[encoded data removed]",
            "text/plain": [
              "<Figure size 432x288 with 1 Axes>"
            ]
          },
          "metadata": {
            "tags": [],
            "needs_background": "light"
          }
        }
      ]
    },
    {
      "cell_type": "code",
      "metadata": {
        "colab": {
          "base_uri": "https://localhost:8080/",
          "height": 295
        },
        "id": "1wR9bosq5RaS",
        "outputId": "9229dabf-828b-4a3a-b2ad-3d46e2bc1acc"
      },
      "source": [
        "sns.countplot(x='MMA(Mixed Martial Arts) Help to Improve confidence?',data=gb1)\n",
        "plt.title(\"MMA(Mixed Martial Arts) Help to Improve confidence?\")\n",
        "plt.show()"
      ],
      "execution_count": 35,
      "outputs": [
        {
          "output_type": "display_data",
          "data": {
            "image/png": "[encoded data removed]",
            "text/plain": [
              "<Figure size 432x288 with 1 Axes>"
            ]
          },
          "metadata": {
            "tags": [],
            "needs_background": "light"
          }
        }
      ]
    },
    {
      "cell_type": "code",
      "metadata": {
        "colab": {
          "base_uri": "https://localhost:8080/",
          "height": 295
        },
        "id": "ltVJU9FK3AKd",
        "outputId": "37f86191-a0f7-431e-8804-acb86058f9c3"
      },
      "source": [
        "sns.countplot(x='MMA(Mixed Martial Arts) Helps to  Improves Physical Toughness?',data=gb1)\n",
        "plt.title(\"MMA(Mixed Martial Arts) Helps to  Improves Physical Toughness?\")\n",
        "plt.show()"
      ],
      "execution_count": 33,
      "outputs": [
        {
          "output_type": "display_data",
          "data": {
            "image/png": "[encoded data removed]",
            "text/plain": [
              "<Figure size 432x288 with 1 Axes>"
            ]
          },
          "metadata": {
            "tags": [],
            "needs_background": "light"
          }
        }
      ]
    },
    {
      "cell_type": "code",
      "metadata": {
        "id": "HeeiGFXM5GqM"
      },
      "source": [
        ""
      ],
      "execution_count": null,
      "outputs": []
    }
  ]
}