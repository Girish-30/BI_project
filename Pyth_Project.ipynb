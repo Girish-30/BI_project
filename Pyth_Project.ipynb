{
  "nbformat": 4,
  "nbformat_minor": 0,
  "metadata": {
    "colab": {
      "name": "Pyth_Project.ipynb",
      "provenance": [],
      "authorship_tag": "ABX9TyPAEmCsmvPKJLYABKI6RNEe",
      "include_colab_link": true
    },
    "kernelspec": {
      "name": "python3",
      "display_name": "Python 3"
    },
    "language_info": {
      "name": "python"
    }
  },
  "cells": [
    {
      "cell_type": "markdown",
      "metadata": {
        "id": "view-in-github",
        "colab_type": "text"
      },
      "source": [
        "<a href=\"https://colab.research.google.com/github/Girish-30/BI_project/blob/main/Pyth_Project.ipynb\" target=\"_parent\"><img src=\"https://colab.research.google.com/assets/colab-badge.svg\" alt=\"Open In Colab\"/></a>"
      ]
    },
    {
      "cell_type": "code",
      "metadata": {
        "id": "8W9F6VOhZcW3"
      },
      "source": [
        "import numpy as np\n",
        "import pandas as pd\n",
        "import matplotlib.pyplot as plt\n",
        "import seaborn as sns"
      ],
      "execution_count": 60,
      "outputs": []
    },
    {
      "cell_type": "code",
      "metadata": {
        "id": "aZVm7OZzeUcF"
      },
      "source": [
        "pd.set_option('display.max_columns', None)\n"
      ],
      "execution_count": 61,
      "outputs": []
    },
    {
      "cell_type": "code",
      "metadata": {
        "id": "_JUZYbJqsKqW"
      },
      "source": [
        "gb1=pd.read_csv('/content/MMA FIGHTERS & GYMS.csv')"
      ],
      "execution_count": 62,
      "outputs": []
    },
    {
      "cell_type": "code",
      "metadata": {
        "colab": {
          "base_uri": "https://localhost:8080/"
        },
        "id": "NsMVNetTsalr",
        "outputId": "0e5c2d9b-9044-4bfe-fbb4-0aa8ff7640b8"
      },
      "source": [
        "print(gb1.head(20))"
      ],
      "execution_count": 63,
      "outputs": [
        {
          "output_type": "stream",
          "text": [
            "                         Timestamp                Name  \\\n",
            "0   2021/03/02 9:28:07 PM GMT+5:30             chinmay   \n",
            "1   2021/03/02 9:36:19 PM GMT+5:30      Simran mahadik   \n",
            "2   2021/03/03 5:08:28 PM GMT+5:30               Anuja   \n",
            "3   2021/03/03 6:04:48 PM GMT+5:30        Sonali more    \n",
            "4   2021/03/04 4:24:27 PM GMT+5:30         Uma Jagkar    \n",
            "5   2021/03/04 4:26:35 PM GMT+5:30        Neha Chauhan   \n",
            "6   2021/03/04 4:26:56 PM GMT+5:30        Vishal Lanke   \n",
            "7   2021/03/04 4:28:40 PM GMT+5:30            Manisha    \n",
            "8   2021/03/04 4:29:15 PM GMT+5:30      Shubham Gawade   \n",
            "9   2021/03/04 4:35:47 PM GMT+5:30         Rahul kumar   \n",
            "10  2021/03/04 4:43:32 PM GMT+5:30               Ravi    \n",
            "11  2021/03/04 4:44:09 PM GMT+5:30                Sham   \n",
            "12  2021/03/04 4:46:21 PM GMT+5:30  Ahedi Simrit Kaur    \n",
            "13  2021/03/04 4:50:56 PM GMT+5:30        Varun Ahire    \n",
            "14  2021/03/04 4:51:08 PM GMT+5:30       Sakshi Shinde   \n",
            "15  2021/03/04 4:53:59 PM GMT+5:30         Rahil dalvi   \n",
            "16  2021/03/04 4:55:45 PM GMT+5:30   Rashmitha Bangera   \n",
            "17  2021/03/04 4:57:01 PM GMT+5:30              Shreya   \n",
            "18  2021/03/04 4:57:10 PM GMT+5:30               tejal   \n",
            "19  2021/03/04 4:59:44 PM GMT+5:30      Karuna chikane   \n",
            "\n",
            "                                    Most entertaining  \\\n",
            "0                      Kung Fu;Capoeira;Karate;Kalari   \n",
            "1                                           Taekwondo   \n",
            "2                                    Taekwondo;Karate   \n",
            "3                                              Karate   \n",
            "4                                      Kung Fu;Karate   \n",
            "5                               Kung Fu;Karate;Kalari   \n",
            "6                                           Taekwondo   \n",
            "7   Taekwondo;Kung Fu;Capoeira;Karate;Kalari;Muay ...   \n",
            "8                                              Karate   \n",
            "9                                           Taekwondo   \n",
            "10  Taekwondo;Kung Fu;Capoeira;Karate;Kalari;Muay ...   \n",
            "11                     Kung Fu;Capoeira;Karate;Kalari   \n",
            "12                                          Taekwondo   \n",
            "13                    Taekwondo;Kung Fu;Karate;Kalari   \n",
            "14                                            Kung Fu   \n",
            "15                                            Kung Fu   \n",
            "16                                             Karate   \n",
            "17                                     Kung Fu;Karate   \n",
            "18                             Capoeira;Karate;Kalari   \n",
            "19                                             Karate   \n",
            "\n",
            "    Age when you heard about Improve confidence Physical Toughness  \\\n",
            "0                Below 18yrs                Yes              Agree   \n",
            "1                Above 18yrs                Yes              Agree   \n",
            "2                Below 15yrs                Yes              Agree   \n",
            "3                Below 15yrs                Yes              Agree   \n",
            "4                Below 15yrs                Yes              Agree   \n",
            "5                Below 12yrs                Yes              Agree   \n",
            "6                Below 12yrs                Yes          Can't Say   \n",
            "7                Below 12yrs                Yes           Disagree   \n",
            "8                Below 15yrs                Yes              Agree   \n",
            "9                Below 12yrs                Yes              Agree   \n",
            "10               Below 12yrs                Yes              Agree   \n",
            "11               Below 12yrs                Yes              Agree   \n",
            "12               Below 15yrs                Yes          Can't Say   \n",
            "13               Below 15yrs                Yes              Agree   \n",
            "14               Below 18yrs                Yes              Agree   \n",
            "15               Below 15yrs                Yes              Agree   \n",
            "16               Below 12yrs                Yes              Agree   \n",
            "17               Above 18yrs                 No              Agree   \n",
            "18               Below 12yrs                Yes              Agree   \n",
            "19               Above 18yrs                Yes              Agree   \n",
            "\n",
            "   Mental Toughness and Resilience  Aerobic and Anaerobic conditioning  \\\n",
            "0                Strongly disagree                                True   \n",
            "1                            Agree                                True   \n",
            "2                          Neutral                                True   \n",
            "3                            Agree                                True   \n",
            "4                            Agree                                True   \n",
            "5                   Strongly agree                                True   \n",
            "6                            Agree                                True   \n",
            "7                Strongly disagree                               False   \n",
            "8                            Agree                                True   \n",
            "9                Strongly disagree                                True   \n",
            "10                        Disagree                               False   \n",
            "11                        Disagree                               False   \n",
            "12                         Neutral                                True   \n",
            "13                           Agree                                True   \n",
            "14                         Neutral                               False   \n",
            "15                        Disagree                               False   \n",
            "16                  Strongly agree                                True   \n",
            "17                         Neutral                               False   \n",
            "18                        Disagree                                True   \n",
            "19                         Neutral                                True   \n",
            "\n",
            "   Fitness Overall Body Coordination and Proprioception  \\\n",
            "0      Yes                            Strongly disagree   \n",
            "1      Yes                                        Agree   \n",
            "2      Yes                                        Agree   \n",
            "3      Yes                                        Agree   \n",
            "4      Yes                                        Agree   \n",
            "5      Yes                               Strongly Agree   \n",
            "6    Maybe                                      Neutral   \n",
            "7       No                            Strongly disagree   \n",
            "8      Yes                                        Agree   \n",
            "9      Yes                            Strongly disagree   \n",
            "10     Yes                                     Disagree   \n",
            "11     Yes                                     Disagree   \n",
            "12     Yes                                      Neutral   \n",
            "13     Yes                                        Agree   \n",
            "14   Maybe                                      Neutral   \n",
            "15     Yes                                      Neutral   \n",
            "16     Yes                               Strongly Agree   \n",
            "17   Maybe                                      Neutral   \n",
            "18     Yes                                        Agree   \n",
            "19     Yes                                      Neutral   \n",
            "\n",
            "   Stress Relief and Improve Sleep Lose weight  \n",
            "0                Strongly disagree         Yes  \n",
            "1                            Agree         Yes  \n",
            "2                            Agree          No  \n",
            "3                            Agree         Yes  \n",
            "4                            Agree         Yes  \n",
            "5                            Agree         Yes  \n",
            "6                            Agree         Yes  \n",
            "7                Strongly disagree          No  \n",
            "8                            Agree         Yes  \n",
            "9                Strongly disagree         Yes  \n",
            "10                        Disagree         Yes  \n",
            "11                         Neutral         Yes  \n",
            "12                         Neutral          No  \n",
            "13                           Agree         Yes  \n",
            "14                           Agree         Yes  \n",
            "15                           Agree         Yes  \n",
            "16                  Strongly agree         Yes  \n",
            "17                         Neutral          No  \n",
            "18                           Agree         Yes  \n",
            "19                         Neutral         Yes  \n"
          ],
          "name": "stdout"
        }
      ]
    },
    {
      "cell_type": "code",
      "metadata": {
        "id": "IV0OL6Cxt7cC"
      },
      "source": [
        "import numpy as np\n",
        "import pandas as pd\n",
        "import matplotlib.pyplot as plt\n",
        "import seaborn as sns"
      ],
      "execution_count": 64,
      "outputs": []
    },
    {
      "cell_type": "code",
      "metadata": {
        "id": "F2IFBcvXwC-n"
      },
      "source": [
        "in_time=pd.read_csv('/content/MMA FIGHTERS & GYMS.csv')"
      ],
      "execution_count": 65,
      "outputs": []
    },
    {
      "cell_type": "code",
      "metadata": {
        "colab": {
          "base_uri": "https://localhost:8080/",
          "height": 957
        },
        "id": "6PzZeonHwQHe",
        "outputId": "03aa5fae-c8ea-4f65-e4e2-02997feec107"
      },
      "source": [
        "in_time.head(10)"
      ],
      "execution_count": 66,
      "outputs": [
        {
          "output_type": "execute_result",
          "data": {
            "text/html": [
              "<div>\n",
              "<style scoped>\n",
              "    .dataframe tbody tr th:only-of-type {\n",
              "        vertical-align: middle;\n",
              "    }\n",
              "\n",
              "    .dataframe tbody tr th {\n",
              "        vertical-align: top;\n",
              "    }\n",
              "\n",
              "    .dataframe thead th {\n",
              "        text-align: right;\n",
              "    }\n",
              "</style>\n",
              "<table border=\"1\" class=\"dataframe\">\n",
              "  <thead>\n",
              "    <tr style=\"text-align: right;\">\n",
              "      <th></th>\n",
              "      <th>Timestamp</th>\n",
              "      <th>Name</th>\n",
              "      <th>Most entertaining</th>\n",
              "      <th>Age when you heard about</th>\n",
              "      <th>Improve confidence</th>\n",
              "      <th>Physical Toughness</th>\n",
              "      <th>Mental Toughness and Resilience</th>\n",
              "      <th>Aerobic and Anaerobic conditioning</th>\n",
              "      <th>Fitness</th>\n",
              "      <th>Overall Body Coordination and Proprioception</th>\n",
              "      <th>Stress Relief and Improve Sleep</th>\n",
              "      <th>Lose weight</th>\n",
              "    </tr>\n",
              "  </thead>\n",
              "  <tbody>\n",
              "    <tr>\n",
              "      <th>0</th>\n",
              "      <td>2021/03/02 9:28:07 PM GMT+5:30</td>\n",
              "      <td>chinmay</td>\n",
              "      <td>Kung Fu;Capoeira;Karate;Kalari</td>\n",
              "      <td>Below 18yrs</td>\n",
              "      <td>Yes</td>\n",
              "      <td>Agree</td>\n",
              "      <td>Strongly disagree</td>\n",
              "      <td>True</td>\n",
              "      <td>Yes</td>\n",
              "      <td>Strongly disagree</td>\n",
              "      <td>Strongly disagree</td>\n",
              "      <td>Yes</td>\n",
              "    </tr>\n",
              "    <tr>\n",
              "      <th>1</th>\n",
              "      <td>2021/03/02 9:36:19 PM GMT+5:30</td>\n",
              "      <td>Simran mahadik</td>\n",
              "      <td>Taekwondo</td>\n",
              "      <td>Above 18yrs</td>\n",
              "      <td>Yes</td>\n",
              "      <td>Agree</td>\n",
              "      <td>Agree</td>\n",
              "      <td>True</td>\n",
              "      <td>Yes</td>\n",
              "      <td>Agree</td>\n",
              "      <td>Agree</td>\n",
              "      <td>Yes</td>\n",
              "    </tr>\n",
              "    <tr>\n",
              "      <th>2</th>\n",
              "      <td>2021/03/03 5:08:28 PM GMT+5:30</td>\n",
              "      <td>Anuja</td>\n",
              "      <td>Taekwondo;Karate</td>\n",
              "      <td>Below 15yrs</td>\n",
              "      <td>Yes</td>\n",
              "      <td>Agree</td>\n",
              "      <td>Neutral</td>\n",
              "      <td>True</td>\n",
              "      <td>Yes</td>\n",
              "      <td>Agree</td>\n",
              "      <td>Agree</td>\n",
              "      <td>No</td>\n",
              "    </tr>\n",
              "    <tr>\n",
              "      <th>3</th>\n",
              "      <td>2021/03/03 6:04:48 PM GMT+5:30</td>\n",
              "      <td>Sonali more</td>\n",
              "      <td>Karate</td>\n",
              "      <td>Below 15yrs</td>\n",
              "      <td>Yes</td>\n",
              "      <td>Agree</td>\n",
              "      <td>Agree</td>\n",
              "      <td>True</td>\n",
              "      <td>Yes</td>\n",
              "      <td>Agree</td>\n",
              "      <td>Agree</td>\n",
              "      <td>Yes</td>\n",
              "    </tr>\n",
              "    <tr>\n",
              "      <th>4</th>\n",
              "      <td>2021/03/04 4:24:27 PM GMT+5:30</td>\n",
              "      <td>Uma Jagkar</td>\n",
              "      <td>Kung Fu;Karate</td>\n",
              "      <td>Below 15yrs</td>\n",
              "      <td>Yes</td>\n",
              "      <td>Agree</td>\n",
              "      <td>Agree</td>\n",
              "      <td>True</td>\n",
              "      <td>Yes</td>\n",
              "      <td>Agree</td>\n",
              "      <td>Agree</td>\n",
              "      <td>Yes</td>\n",
              "    </tr>\n",
              "    <tr>\n",
              "      <th>5</th>\n",
              "      <td>2021/03/04 4:26:35 PM GMT+5:30</td>\n",
              "      <td>Neha Chauhan</td>\n",
              "      <td>Kung Fu;Karate;Kalari</td>\n",
              "      <td>Below 12yrs</td>\n",
              "      <td>Yes</td>\n",
              "      <td>Agree</td>\n",
              "      <td>Strongly agree</td>\n",
              "      <td>True</td>\n",
              "      <td>Yes</td>\n",
              "      <td>Strongly Agree</td>\n",
              "      <td>Agree</td>\n",
              "      <td>Yes</td>\n",
              "    </tr>\n",
              "    <tr>\n",
              "      <th>6</th>\n",
              "      <td>2021/03/04 4:26:56 PM GMT+5:30</td>\n",
              "      <td>Vishal Lanke</td>\n",
              "      <td>Taekwondo</td>\n",
              "      <td>Below 12yrs</td>\n",
              "      <td>Yes</td>\n",
              "      <td>Can't Say</td>\n",
              "      <td>Agree</td>\n",
              "      <td>True</td>\n",
              "      <td>Maybe</td>\n",
              "      <td>Neutral</td>\n",
              "      <td>Agree</td>\n",
              "      <td>Yes</td>\n",
              "    </tr>\n",
              "    <tr>\n",
              "      <th>7</th>\n",
              "      <td>2021/03/04 4:28:40 PM GMT+5:30</td>\n",
              "      <td>Manisha</td>\n",
              "      <td>Taekwondo;Kung Fu;Capoeira;Karate;Kalari;Muay ...</td>\n",
              "      <td>Below 12yrs</td>\n",
              "      <td>Yes</td>\n",
              "      <td>Disagree</td>\n",
              "      <td>Strongly disagree</td>\n",
              "      <td>False</td>\n",
              "      <td>No</td>\n",
              "      <td>Strongly disagree</td>\n",
              "      <td>Strongly disagree</td>\n",
              "      <td>No</td>\n",
              "    </tr>\n",
              "    <tr>\n",
              "      <th>8</th>\n",
              "      <td>2021/03/04 4:29:15 PM GMT+5:30</td>\n",
              "      <td>Shubham Gawade</td>\n",
              "      <td>Karate</td>\n",
              "      <td>Below 15yrs</td>\n",
              "      <td>Yes</td>\n",
              "      <td>Agree</td>\n",
              "      <td>Agree</td>\n",
              "      <td>True</td>\n",
              "      <td>Yes</td>\n",
              "      <td>Agree</td>\n",
              "      <td>Agree</td>\n",
              "      <td>Yes</td>\n",
              "    </tr>\n",
              "    <tr>\n",
              "      <th>9</th>\n",
              "      <td>2021/03/04 4:35:47 PM GMT+5:30</td>\n",
              "      <td>Rahul kumar</td>\n",
              "      <td>Taekwondo</td>\n",
              "      <td>Below 12yrs</td>\n",
              "      <td>Yes</td>\n",
              "      <td>Agree</td>\n",
              "      <td>Strongly disagree</td>\n",
              "      <td>True</td>\n",
              "      <td>Yes</td>\n",
              "      <td>Strongly disagree</td>\n",
              "      <td>Strongly disagree</td>\n",
              "      <td>Yes</td>\n",
              "    </tr>\n",
              "  </tbody>\n",
              "</table>\n",
              "</div>"
            ],
            "text/plain": [
              "                        Timestamp            Name  \\\n",
              "0  2021/03/02 9:28:07 PM GMT+5:30         chinmay   \n",
              "1  2021/03/02 9:36:19 PM GMT+5:30  Simran mahadik   \n",
              "2  2021/03/03 5:08:28 PM GMT+5:30           Anuja   \n",
              "3  2021/03/03 6:04:48 PM GMT+5:30    Sonali more    \n",
              "4  2021/03/04 4:24:27 PM GMT+5:30     Uma Jagkar    \n",
              "5  2021/03/04 4:26:35 PM GMT+5:30    Neha Chauhan   \n",
              "6  2021/03/04 4:26:56 PM GMT+5:30    Vishal Lanke   \n",
              "7  2021/03/04 4:28:40 PM GMT+5:30        Manisha    \n",
              "8  2021/03/04 4:29:15 PM GMT+5:30  Shubham Gawade   \n",
              "9  2021/03/04 4:35:47 PM GMT+5:30     Rahul kumar   \n",
              "\n",
              "                                   Most entertaining  \\\n",
              "0                     Kung Fu;Capoeira;Karate;Kalari   \n",
              "1                                          Taekwondo   \n",
              "2                                   Taekwondo;Karate   \n",
              "3                                             Karate   \n",
              "4                                     Kung Fu;Karate   \n",
              "5                              Kung Fu;Karate;Kalari   \n",
              "6                                          Taekwondo   \n",
              "7  Taekwondo;Kung Fu;Capoeira;Karate;Kalari;Muay ...   \n",
              "8                                             Karate   \n",
              "9                                          Taekwondo   \n",
              "\n",
              "   Age when you heard about Improve confidence Physical Toughness  \\\n",
              "0               Below 18yrs                Yes              Agree   \n",
              "1               Above 18yrs                Yes              Agree   \n",
              "2               Below 15yrs                Yes              Agree   \n",
              "3               Below 15yrs                Yes              Agree   \n",
              "4               Below 15yrs                Yes              Agree   \n",
              "5               Below 12yrs                Yes              Agree   \n",
              "6               Below 12yrs                Yes          Can't Say   \n",
              "7               Below 12yrs                Yes           Disagree   \n",
              "8               Below 15yrs                Yes              Agree   \n",
              "9               Below 12yrs                Yes              Agree   \n",
              "\n",
              "  Mental Toughness and Resilience  Aerobic and Anaerobic conditioning Fitness  \\\n",
              "0               Strongly disagree                                True     Yes   \n",
              "1                           Agree                                True     Yes   \n",
              "2                         Neutral                                True     Yes   \n",
              "3                           Agree                                True     Yes   \n",
              "4                           Agree                                True     Yes   \n",
              "5                  Strongly agree                                True     Yes   \n",
              "6                           Agree                                True   Maybe   \n",
              "7               Strongly disagree                               False      No   \n",
              "8                           Agree                                True     Yes   \n",
              "9               Strongly disagree                                True     Yes   \n",
              "\n",
              "  Overall Body Coordination and Proprioception  \\\n",
              "0                            Strongly disagree   \n",
              "1                                        Agree   \n",
              "2                                        Agree   \n",
              "3                                        Agree   \n",
              "4                                        Agree   \n",
              "5                               Strongly Agree   \n",
              "6                                      Neutral   \n",
              "7                            Strongly disagree   \n",
              "8                                        Agree   \n",
              "9                            Strongly disagree   \n",
              "\n",
              "  Stress Relief and Improve Sleep Lose weight  \n",
              "0               Strongly disagree         Yes  \n",
              "1                           Agree         Yes  \n",
              "2                           Agree          No  \n",
              "3                           Agree         Yes  \n",
              "4                           Agree         Yes  \n",
              "5                           Agree         Yes  \n",
              "6                           Agree         Yes  \n",
              "7               Strongly disagree          No  \n",
              "8                           Agree         Yes  \n",
              "9               Strongly disagree         Yes  "
            ]
          },
          "metadata": {
            "tags": []
          },
          "execution_count": 66
        }
      ]
    },
    {
      "cell_type": "code",
      "metadata": {
        "id": "66K_cnNQfnp-"
      },
      "source": [
        "#gb1.dropna(inplace=True)"
      ],
      "execution_count": 67,
      "outputs": []
    },
    {
      "cell_type": "code",
      "metadata": {
        "colab": {
          "base_uri": "https://localhost:8080/"
        },
        "id": "0Nr3Rv8kgDEI",
        "outputId": "c50cb507-032d-4dfb-dcc4-d97720c4532e"
      },
      "source": [
        "gb1.isnull().sum()"
      ],
      "execution_count": 68,
      "outputs": [
        {
          "output_type": "execute_result",
          "data": {
            "text/plain": [
              "Timestamp                                       0\n",
              "Name                                            0\n",
              "Most entertaining                               0\n",
              " Age when you heard about                       0\n",
              "Improve confidence                              0\n",
              "Physical Toughness                              0\n",
              "Mental Toughness and Resilience                 0\n",
              "Aerobic and Anaerobic conditioning              0\n",
              "Fitness                                         0\n",
              "Overall Body Coordination and Proprioception    0\n",
              "Stress Relief and Improve Sleep                 0\n",
              "Lose weight                                     0\n",
              "dtype: int64"
            ]
          },
          "metadata": {
            "tags": []
          },
          "execution_count": 68
        }
      ]
    },
    {
      "cell_type": "code",
      "metadata": {
        "colab": {
          "base_uri": "https://localhost:8080/"
        },
        "id": "1KhE3B6fnlPZ",
        "outputId": "8ec3b6b6-2dcb-44d5-f9c5-cb327873ef8d"
      },
      "source": [
        "gb1.shape"
      ],
      "execution_count": 69,
      "outputs": [
        {
          "output_type": "execute_result",
          "data": {
            "text/plain": [
              "(254, 12)"
            ]
          },
          "metadata": {
            "tags": []
          },
          "execution_count": 69
        }
      ]
    },
    {
      "cell_type": "markdown",
      "metadata": {
        "id": "j7VHkebrA79k"
      },
      "source": [
        "CountPlot Graph"
      ]
    },
    {
      "cell_type": "code",
      "metadata": {
        "colab": {
          "base_uri": "https://localhost:8080/",
          "height": 295
        },
        "id": "oeWZFhFg13cZ",
        "outputId": "4a7335d2-1bca-4f0a-c80e-c07a4b2d943b"
      },
      "source": [
        "sns.countplot(x='Lose weight',data=gb1)\n",
        "plt.title(\"Lose weight\")\n",
        "plt.show()"
      ],
      "execution_count": 70,
      "outputs": [
        {
          "output_type": "display_data",
          "data": {
            "image/png": "[encoded data removed]",
            "text/plain": [
              "<Figure size 432x288 with 1 Axes>"
            ]
          },
          "metadata": {
            "tags": [],
            "needs_background": "light"
          }
        }
      ]
    },
    {
      "cell_type": "code",
      "metadata": {
        "colab": {
          "base_uri": "https://localhost:8080/",
          "height": 295
        },
        "id": "1wR9bosq5RaS",
        "outputId": "9741204a-33a1-4264-8116-29c525a241d1"
      },
      "source": [
        "sns.countplot(x='Improve confidence',data=gb1)\n",
        "plt.title(\"Improve confidence\")\n",
        "plt.show()"
      ],
      "execution_count": 71,
      "outputs": [
        {
          "output_type": "display_data",
          "data": {
            "image/png": "[encoded data removed]",
            "text/plain": [
              "<Figure size 432x288 with 1 Axes>"
            ]
          },
          "metadata": {
            "tags": [],
            "needs_background": "light"
          }
        }
      ]
    },
    {
      "cell_type": "code",
      "metadata": {
        "colab": {
          "base_uri": "https://localhost:8080/",
          "height": 295
        },
        "id": "ltVJU9FK3AKd",
        "outputId": "bd411815-88de-4176-c861-0269538043dc"
      },
      "source": [
        "sns.countplot(x='Physical Toughness',data=gb1)\n",
        "plt.title(\"Physical Toughness\")\n",
        "plt.show()"
      ],
      "execution_count": 72,
      "outputs": [
        {
          "output_type": "display_data",
          "data": {
            "image/png": "[encoded data removed]",
            "text/plain": [
              "<Figure size 432x288 with 1 Axes>"
            ]
          },
          "metadata": {
            "tags": [],
            "needs_background": "light"
          }
        }
      ]
    },
    {
      "cell_type": "code",
      "metadata": {
        "colab": {
          "base_uri": "https://localhost:8080/",
          "height": 295
        },
        "id": "HeeiGFXM5GqM",
        "outputId": "8821e50b-2b31-4b0f-9563-e03572c3bf35"
      },
      "source": [
        "sns.countplot(x='Fitness',data=gb1)\n",
        "plt.title(\"Fitness\")\n",
        "plt.show()"
      ],
      "execution_count": 74,
      "outputs": [
        {
          "output_type": "display_data",
          "data": {
            "image/png": "[encoded data removed]",
            "text/plain": [
              "<Figure size 432x288 with 1 Axes>"
            ]
          },
          "metadata": {
            "tags": [],
            "needs_background": "light"
          }
        }
      ]
    },
    {
      "cell_type": "code",
      "metadata": {
        "colab": {
          "base_uri": "https://localhost:8080/",
          "height": 295
        },
        "id": "8asdumTXAEAS",
        "outputId": "1ee5d0d0-5165-4bb0-e77e-03a755cc392f"
      },
      "source": [
        "sns.countplot(x='Aerobic and Anaerobic conditioning',data=gb1)\n",
        "plt.title(\"Aerobic and Anaerobic conditioning\")\n",
        "plt.show()"
      ],
      "execution_count": 76,
      "outputs": [
        {
          "output_type": "display_data",
          "data": {
            "image/png": "[encoded data removed]",
            "text/plain": [
              "<Figure size 432x288 with 1 Axes>"
            ]
          },
          "metadata": {
            "tags": [],
            "needs_background": "light"
          }
        }
      ]
    },
    {
      "cell_type": "code",
      "metadata": {
        "colab": {
          "base_uri": "https://localhost:8080/",
          "height": 295
        },
        "id": "hhWmFyOgArrk",
        "outputId": "46b60721-d16c-4318-f71f-3f49834de3f0"
      },
      "source": [
        "sns.countplot(x='Overall Body Coordination and Proprioception',data=gb1)\n",
        "plt.title(\"Overall Body Coordination and Proprioception\")\n",
        "plt.show()"
      ],
      "execution_count": 78,
      "outputs": [
        {
          "output_type": "display_data",
          "data": {
            "image/png": "[encoded data removed]",
            "text/plain": [
              "<Figure size 432x288 with 1 Axes>"
            ]
          },
          "metadata": {
            "tags": [],
            "needs_background": "light"
          }
        }
      ]
    },
    {
      "cell_type": "code",
      "metadata": {
        "colab": {
          "base_uri": "https://localhost:8080/",
          "height": 295
        },
        "id": "Z00rBa10BG08",
        "outputId": "049e8c3b-c960-4393-b97d-9a77773919f7"
      },
      "source": [
        "sns.countplot(x='Stress Relief and Improve Sleep',data=gb1)\n",
        "plt.title(\"Stress Relief and Improve Sleep\")\n",
        "plt.show()"
      ],
      "execution_count": 82,
      "outputs": [
        {
          "output_type": "display_data",
          "data": {
            "image/png": "[encoded data removed]",
            "text/plain": [
              "<Figure size 432x288 with 1 Axes>"
            ]
          },
          "metadata": {
            "tags": [],
            "needs_background": "light"
          }
        }
      ]
    },
    {
      "cell_type": "markdown",
      "metadata": {
        "id": "O5WwnlX9Cqip"
      },
      "source": [
        "value counts"
      ]
    },
    {
      "cell_type": "code",
      "metadata": {
        "colab": {
          "base_uri": "https://localhost:8080/"
        },
        "id": "aPPE0bOACEsi",
        "outputId": "5bf9369b-5bc3-4e51-c0bb-8e31c584974c"
      },
      "source": [
        "gb1['Mental Toughness and Resilience'].value_counts(ascending=True)"
      ],
      "execution_count": 84,
      "outputs": [
        {
          "output_type": "execute_result",
          "data": {
            "text/plain": [
              "Disagree             31\n",
              "Strongly disagree    32\n",
              "Strongly agree       33\n",
              "Agree                77\n",
              "Neutral              81\n",
              "Name: Mental Toughness and Resilience, dtype: int64"
            ]
          },
          "metadata": {
            "tags": []
          },
          "execution_count": 84
        }
      ]
    },
    {
      "cell_type": "code",
      "metadata": {
        "colab": {
          "base_uri": "https://localhost:8080/"
        },
        "id": "FOzSxWlMCmp8",
        "outputId": "d21e5b61-470e-4d2a-f294-cac4aec264a8"
      },
      "source": [
        "gb1['Fitness'].value_counts(ascending=True)"
      ],
      "execution_count": 86,
      "outputs": [
        {
          "output_type": "execute_result",
          "data": {
            "text/plain": [
              "Maybe     41\n",
              "No        60\n",
              "Yes      153\n",
              "Name: Fitness, dtype: int64"
            ]
          },
          "metadata": {
            "tags": []
          },
          "execution_count": 86
        }
      ]
    },
    {
      "cell_type": "code",
      "metadata": {
        "id": "QAdL4sCfDMeA"
      },
      "source": [
        "#gb1.corr()"
      ],
      "execution_count": 93,
      "outputs": []
    },
    {
      "cell_type": "code",
      "metadata": {
        "colab": {
          "base_uri": "https://localhost:8080/",
          "height": 658
        },
        "id": "wxy6L8c9D5CS",
        "outputId": "56c52962-e431-4661-8b6c-101729feb8e1"
      },
      "source": [
        "\n",
        "plt.figure(figsize=(8,8))\n",
        "ax = sns.countplot(x='Fitness',data=gb1,hue=\"Lose weight\")\n",
        "bars = ax.patches\n",
        "half = int(len(bars)/2)\n",
        "left_bars = bars[:half]\n",
        "right_bars = bars[half:]\n",
        "\n",
        "for left, right in zip(left_bars, right_bars):\n",
        "    height_l = left.get_height()\n",
        "    height_r = right.get_height()\n",
        "    total = height_l + height_r\n",
        "\n",
        "    ax.text(left.get_x() + left.get_width()/2., height_l + 50, '{0:.0%}'.format(height_l/total), ha=\"center\")\n",
        "    ax.text(right.get_x() + right.get_width()/2., height_r + 50, '{0:.0%}'.format(height_r/total), ha=\"center\")"
      ],
      "execution_count": 105,
      "outputs": [
        {
          "output_type": "display_data",
          "data": {
            "image/png": "[encoded data removed]",
            "text/plain": [
              "<Figure size 576x576 with 1 Axes>"
            ]
          },
          "metadata": {
            "tags": [],
            "needs_background": "light"
          }
        }
      ]
    },
    {
      "cell_type": "code",
      "metadata": {
        "colab": {
          "base_uri": "https://localhost:8080/",
          "height": 295
        },
        "id": "ysc8MxqlFi1S",
        "outputId": "bca1b153-5092-4d27-a153-633855bb1029"
      },
      "source": [
        "plt.scatter(x=\"Lose weight\" ,y=\"Fitness\")\n",
        "plt.title('Scatter plot pythonspot.com')\n",
        "plt.xlabel('x')\n",
        "plt.ylabel('y')\n",
        "plt.show()"
      ],
      "execution_count": 106,
      "outputs": [
        {
          "output_type": "display_data",
          "data": {
            "image/png": "[encoded data removed]",
            "text/plain": [
              "<Figure size 432x288 with 1 Axes>"
            ]
          },
          "metadata": {
            "tags": [],
            "needs_background": "light"
          }
        }
      ]
    }
  ]
}